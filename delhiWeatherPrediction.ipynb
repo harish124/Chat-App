{
  "nbformat": 4,
  "nbformat_minor": 0,
  "metadata": {
    "kernelspec": {
      "name": "python3",
      "display_name": "Python 3"
    },
    "language_info": {
      "codemirror_mode": {
        "name": "ipython",
        "version": 3
      },
      "file_extension": ".py",
      "mimetype": "text/x-python",
      "name": "python",
      "nbconvert_exporter": "python",
      "pygments_lexer": "ipython3",
      "version": "3.6.6"
    },
    "colab": {
      "name": "delhiWeatherPrediction.ipynb",
      "provenance": [],
      "collapsed_sections": [
        "L6KzHErCBN0C",
        "lWtksGuqBN59",
        "O6XLL-fABN6S",
        "7z-k43bkBN6b",
        "ZQJUeIkFBN6y"
      ],
      "toc_visible": true
    },
    "accelerator": "TPU"
  },
  "cells": [
    {
      "cell_type": "markdown",
      "metadata": {
        "id": "bOiGj2DjBNug",
        "colab_type": "text"
      },
      "source": [
        "<a href=\"https://www.facebook.com/codemakerz\"><img src=\"https://scontent.ffjr1-4.fna.fbcdn.net/v/t1.0-9/36189148_736466693143793_2172101683281133568_n.png?_nc_cat=107&_nc_eui2=AeHzxv3SUcQBOfijLP-cEnHkX4z9XQXdeau__2MlErWZ1x07aZ1zx1PzJUDDxL6cpr7oPqYiifggXDptgtP8W5iCoDRjcdILDBYZ5Ig40dqi8Q&_nc_oc=AQmMCNXdzelFB2rdtpk8wN8nC410Wm2yKupYfYS1FxHNejTF0Jhr1G3WIZORKRF3TvFpohMB8Puw29Txxan8CW05&_nc_ht=scontent.ffjr1-4.fna&oh=7b13627e991a4d1b508923041bd7bc22&oe=5D8A7B03\" />\n",
        "</a>\n",
        "Follow Us:\n",
        "Facebook: https://www.facebook.com/codemakerz\n",
        "\n",
        "<h1>Delhi Weather Classification Using Decision Tree Classification</h1>\n",
        "<h3>Help us to increase the accuracy of model. Contact us to post your code.</h3>"
      ]
    },
    {
      "cell_type": "code",
      "metadata": {
        "_cell_guid": "b1076dfc-b9ad-4769-8c92-a6c4dae69d19",
        "_uuid": "8f2839f25d086af736a60e9eeb907d3b93b6e0e5",
        "id": "8tG5-pyhBNur",
        "colab_type": "code",
        "colab": {}
      },
      "source": [
        "# This Python 3 environment comes with many helpful analytics libraries installed\n",
        "# It is defined by the kaggle/python docker image: https://github.com/kaggle/docker-python\n",
        "# For example, here's several helpful packages to load in \n",
        "\n",
        "import numpy as np # linear algebra\n",
        "import pandas as pd # data processing, CSV file I/O (e.g. pd.read_csv)\n",
        "import matplotlib.pyplot as plt\n",
        "import seaborn as sns\n",
        "import graphviz\n",
        "# Input data files are available in the \"../input/\" directory.\n",
        "# For example, running this (by clicking run or pressing Shift+Enter) will list all files under the input directory\n",
        "\n",
        "import os\n",
        "\n",
        "# Any results you write to the current directory are saved as output."
      ],
      "execution_count": 0,
      "outputs": []
    },
    {
      "cell_type": "code",
      "metadata": {
        "id": "WNHCoBKJBtTS",
        "colab_type": "code",
        "outputId": "a3866006-9665-4c46-ac70-121adef3bf15",
        "colab": {
          "base_uri": "https://localhost:8080/",
          "height": 125
        }
      },
      "source": [
        "from google.colab import drive\n",
        "drive.mount('/content/drive')"
      ],
      "execution_count": 0,
      "outputs": [
        {
          "output_type": "stream",
          "text": [
            "Go to this URL in a browser: https://accounts.google.com/o/oauth2/auth?client_id=947318989803-6bn6qk8qdgf4n4g3pfee6491hc0brc4i.apps.googleusercontent.com&redirect_uri=urn%3aietf%3awg%3aoauth%3a2.0%3aoob&response_type=code&scope=email%20https%3a%2f%2fwww.googleapis.com%2fauth%2fdocs.test%20https%3a%2f%2fwww.googleapis.com%2fauth%2fdrive%20https%3a%2f%2fwww.googleapis.com%2fauth%2fdrive.photos.readonly%20https%3a%2f%2fwww.googleapis.com%2fauth%2fpeopleapi.readonly\n",
            "\n",
            "Enter your authorization code:\n",
            "··········\n",
            "Mounted at /content/drive\n"
          ],
          "name": "stdout"
        }
      ]
    },
    {
      "cell_type": "code",
      "metadata": {
        "id": "vTTT5ezfCPM-",
        "colab_type": "code",
        "outputId": "a10c1c83-06d9-4cde-d14c-98d4fef19634",
        "colab": {
          "base_uri": "https://localhost:8080/",
          "height": 52
        }
      },
      "source": [
        "!unzip '/content/drive/My Drive/delhi-weather-data.zip'"
      ],
      "execution_count": 0,
      "outputs": [
        {
          "output_type": "stream",
          "text": [
            "Archive:  /content/drive/My Drive/delhi-weather-data.zip\n",
            "  inflating: testset.csv             \n"
          ],
          "name": "stdout"
        }
      ]
    },
    {
      "cell_type": "code",
      "metadata": {
        "id": "OoaOXmuumKoV",
        "colab_type": "code",
        "colab": {}
      },
      "source": [
        ""
      ],
      "execution_count": 0,
      "outputs": []
    },
    {
      "cell_type": "code",
      "metadata": {
        "_cell_guid": "79c7e3d0-c299-4dcb-8224-4455121ee9b0",
        "_uuid": "d629ff2d2480ee46fbb7e2d37f6b5fab8052498a",
        "id": "5PSZPBZjBNvH",
        "colab_type": "code",
        "colab": {}
      },
      "source": [
        "df = pd.read_csv(\"testset.csv\")"
      ],
      "execution_count": 0,
      "outputs": []
    },
    {
      "cell_type": "code",
      "metadata": {
        "id": "gCmlGgQNBNvY",
        "colab_type": "code",
        "outputId": "ff501a62-4d20-4724-e812-98deea1de763",
        "colab": {
          "base_uri": "https://localhost:8080/",
          "height": 299
        }
      },
      "source": [
        "df.head()"
      ],
      "execution_count": 0,
      "outputs": [
        {
          "output_type": "execute_result",
          "data": {
            "text/html": [
              "<div>\n",
              "<style scoped>\n",
              "    .dataframe tbody tr th:only-of-type {\n",
              "        vertical-align: middle;\n",
              "    }\n",
              "\n",
              "    .dataframe tbody tr th {\n",
              "        vertical-align: top;\n",
              "    }\n",
              "\n",
              "    .dataframe thead th {\n",
              "        text-align: right;\n",
              "    }\n",
              "</style>\n",
              "<table border=\"1\" class=\"dataframe\">\n",
              "  <thead>\n",
              "    <tr style=\"text-align: right;\">\n",
              "      <th></th>\n",
              "      <th>datetime_utc</th>\n",
              "      <th>_conds</th>\n",
              "      <th>_dewptm</th>\n",
              "      <th>_fog</th>\n",
              "      <th>_hail</th>\n",
              "      <th>_heatindexm</th>\n",
              "      <th>_hum</th>\n",
              "      <th>_precipm</th>\n",
              "      <th>_pressurem</th>\n",
              "      <th>_rain</th>\n",
              "      <th>_snow</th>\n",
              "      <th>_tempm</th>\n",
              "      <th>_thunder</th>\n",
              "      <th>_tornado</th>\n",
              "      <th>_vism</th>\n",
              "      <th>_wdird</th>\n",
              "      <th>_wdire</th>\n",
              "      <th>_wgustm</th>\n",
              "      <th>_windchillm</th>\n",
              "      <th>_wspdm</th>\n",
              "    </tr>\n",
              "  </thead>\n",
              "  <tbody>\n",
              "    <tr>\n",
              "      <th>0</th>\n",
              "      <td>19961101-11:00</td>\n",
              "      <td>Smoke</td>\n",
              "      <td>9.0</td>\n",
              "      <td>0</td>\n",
              "      <td>0</td>\n",
              "      <td>NaN</td>\n",
              "      <td>27.0</td>\n",
              "      <td>NaN</td>\n",
              "      <td>1010.0</td>\n",
              "      <td>0</td>\n",
              "      <td>0</td>\n",
              "      <td>30.0</td>\n",
              "      <td>0</td>\n",
              "      <td>0</td>\n",
              "      <td>5.0</td>\n",
              "      <td>280.0</td>\n",
              "      <td>West</td>\n",
              "      <td>NaN</td>\n",
              "      <td>NaN</td>\n",
              "      <td>7.4</td>\n",
              "    </tr>\n",
              "    <tr>\n",
              "      <th>1</th>\n",
              "      <td>19961101-12:00</td>\n",
              "      <td>Smoke</td>\n",
              "      <td>10.0</td>\n",
              "      <td>0</td>\n",
              "      <td>0</td>\n",
              "      <td>NaN</td>\n",
              "      <td>32.0</td>\n",
              "      <td>NaN</td>\n",
              "      <td>-9999.0</td>\n",
              "      <td>0</td>\n",
              "      <td>0</td>\n",
              "      <td>28.0</td>\n",
              "      <td>0</td>\n",
              "      <td>0</td>\n",
              "      <td>NaN</td>\n",
              "      <td>0.0</td>\n",
              "      <td>North</td>\n",
              "      <td>NaN</td>\n",
              "      <td>NaN</td>\n",
              "      <td>NaN</td>\n",
              "    </tr>\n",
              "    <tr>\n",
              "      <th>2</th>\n",
              "      <td>19961101-13:00</td>\n",
              "      <td>Smoke</td>\n",
              "      <td>11.0</td>\n",
              "      <td>0</td>\n",
              "      <td>0</td>\n",
              "      <td>NaN</td>\n",
              "      <td>44.0</td>\n",
              "      <td>NaN</td>\n",
              "      <td>-9999.0</td>\n",
              "      <td>0</td>\n",
              "      <td>0</td>\n",
              "      <td>24.0</td>\n",
              "      <td>0</td>\n",
              "      <td>0</td>\n",
              "      <td>NaN</td>\n",
              "      <td>0.0</td>\n",
              "      <td>North</td>\n",
              "      <td>NaN</td>\n",
              "      <td>NaN</td>\n",
              "      <td>NaN</td>\n",
              "    </tr>\n",
              "    <tr>\n",
              "      <th>3</th>\n",
              "      <td>19961101-14:00</td>\n",
              "      <td>Smoke</td>\n",
              "      <td>10.0</td>\n",
              "      <td>0</td>\n",
              "      <td>0</td>\n",
              "      <td>NaN</td>\n",
              "      <td>41.0</td>\n",
              "      <td>NaN</td>\n",
              "      <td>1010.0</td>\n",
              "      <td>0</td>\n",
              "      <td>0</td>\n",
              "      <td>24.0</td>\n",
              "      <td>0</td>\n",
              "      <td>0</td>\n",
              "      <td>2.0</td>\n",
              "      <td>0.0</td>\n",
              "      <td>North</td>\n",
              "      <td>NaN</td>\n",
              "      <td>NaN</td>\n",
              "      <td>NaN</td>\n",
              "    </tr>\n",
              "    <tr>\n",
              "      <th>4</th>\n",
              "      <td>19961101-16:00</td>\n",
              "      <td>Smoke</td>\n",
              "      <td>11.0</td>\n",
              "      <td>0</td>\n",
              "      <td>0</td>\n",
              "      <td>NaN</td>\n",
              "      <td>47.0</td>\n",
              "      <td>NaN</td>\n",
              "      <td>1011.0</td>\n",
              "      <td>0</td>\n",
              "      <td>0</td>\n",
              "      <td>23.0</td>\n",
              "      <td>0</td>\n",
              "      <td>0</td>\n",
              "      <td>1.2</td>\n",
              "      <td>0.0</td>\n",
              "      <td>North</td>\n",
              "      <td>NaN</td>\n",
              "      <td>NaN</td>\n",
              "      <td>0.0</td>\n",
              "    </tr>\n",
              "  </tbody>\n",
              "</table>\n",
              "</div>"
            ],
            "text/plain": [
              "     datetime_utc  _conds   _dewptm  ...   _wgustm   _windchillm   _wspdm\n",
              "0  19961101-11:00   Smoke       9.0  ...       NaN           NaN      7.4\n",
              "1  19961101-12:00   Smoke      10.0  ...       NaN           NaN      NaN\n",
              "2  19961101-13:00   Smoke      11.0  ...       NaN           NaN      NaN\n",
              "3  19961101-14:00   Smoke      10.0  ...       NaN           NaN      NaN\n",
              "4  19961101-16:00   Smoke      11.0  ...       NaN           NaN      0.0\n",
              "\n",
              "[5 rows x 20 columns]"
            ]
          },
          "metadata": {
            "tags": []
          },
          "execution_count": 5
        }
      ]
    },
    {
      "cell_type": "markdown",
      "metadata": {
        "id": "Tagi5coQBNvo",
        "colab_type": "text"
      },
      "source": [
        "# Problem Set"
      ]
    },
    {
      "cell_type": "markdown",
      "metadata": {
        "id": "yHxjNaKiBNvu",
        "colab_type": "raw"
      },
      "source": [
        "Given dataset provides the weather data for city Delhi, India. We will try to predict the weather _conds field. Like weather will be smoke, Haze, Clear.\n",
        "\n",
        "For this we will use Decision Tree Classifier. You can use any other classifier to compare its accuracy."
      ]
    },
    {
      "cell_type": "markdown",
      "metadata": {
        "id": "hGH0RrgIBNv2",
        "colab_type": "text"
      },
      "source": [
        "# EDA & Data Munging"
      ]
    },
    {
      "cell_type": "code",
      "metadata": {
        "id": "u7nbHz6uBNv7",
        "colab_type": "code",
        "outputId": "d71e9d96-bcd2-41f4-c4fd-d6c6247f85ea",
        "colab": {
          "base_uri": "https://localhost:8080/",
          "height": 105
        }
      },
      "source": [
        "# We can see all the column name has space in there names, lets assign new names with removed space.\n",
        "df.columns"
      ],
      "execution_count": 0,
      "outputs": [
        {
          "output_type": "execute_result",
          "data": {
            "text/plain": [
              "Index(['datetime_utc', ' _conds', ' _dewptm', ' _fog', ' _hail',\n",
              "       ' _heatindexm', ' _hum', ' _precipm', ' _pressurem', ' _rain', ' _snow',\n",
              "       ' _tempm', ' _thunder', ' _tornado', ' _vism', ' _wdird', ' _wdire',\n",
              "       ' _wgustm', ' _windchillm', ' _wspdm'],\n",
              "      dtype='object')"
            ]
          },
          "metadata": {
            "tags": []
          },
          "execution_count": 6
        }
      ]
    },
    {
      "cell_type": "code",
      "metadata": {
        "id": "_7RBCQwVBNwK",
        "colab_type": "code",
        "colab": {}
      },
      "source": [
        "df.columns = map(lambda x: x.strip(), df.columns)"
      ],
      "execution_count": 0,
      "outputs": []
    },
    {
      "cell_type": "code",
      "metadata": {
        "id": "tAgVX6L3BNwW",
        "colab_type": "code",
        "outputId": "ea008845-e838-4bf3-d7ac-854b1290518e",
        "colab": {
          "base_uri": "https://localhost:8080/",
          "height": 105
        }
      },
      "source": [
        "df.columns # Space removed"
      ],
      "execution_count": 0,
      "outputs": [
        {
          "output_type": "execute_result",
          "data": {
            "text/plain": [
              "Index(['datetime_utc', '_conds', '_dewptm', '_fog', '_hail', '_heatindexm',\n",
              "       '_hum', '_precipm', '_pressurem', '_rain', '_snow', '_tempm',\n",
              "       '_thunder', '_tornado', '_vism', '_wdird', '_wdire', '_wgustm',\n",
              "       '_windchillm', '_wspdm'],\n",
              "      dtype='object')"
            ]
          },
          "metadata": {
            "tags": []
          },
          "execution_count": 8
        }
      ]
    },
    {
      "cell_type": "code",
      "metadata": {
        "id": "Bnp3K6JSBNwl",
        "colab_type": "code",
        "outputId": "03e32354-7eea-4383-da7d-1d4a6f662313",
        "colab": {
          "base_uri": "https://localhost:8080/",
          "height": 721
        }
      },
      "source": [
        "# Lets check the usual whether codition. We can see usually delhi's weather is either Haze, Smoke. Not good\n",
        "# for health. :()\n",
        "df._conds.value_counts(ascending=False)"
      ],
      "execution_count": 0,
      "outputs": [
        {
          "output_type": "execute_result",
          "data": {
            "text/plain": [
              "Haze                             47602\n",
              "Smoke                            20760\n",
              "Mist                              9375\n",
              "Clear                             3129\n",
              "Widespread Dust                   2856\n",
              "Fog                               2760\n",
              "Scattered Clouds                  2209\n",
              "Partly Cloudy                     2091\n",
              "Shallow Fog                       1860\n",
              "Mostly Cloudy                     1537\n",
              "Light Rain                        1302\n",
              "Partial Fog                       1031\n",
              "Patches of Fog                     901\n",
              "Thunderstorms and Rain             486\n",
              "Heavy Fog                          421\n",
              "Light Drizzle                      414\n",
              "Rain                               394\n",
              "Unknown                            383\n",
              "Blowing Sand                       378\n",
              "Overcast                           326\n",
              "Thunderstorm                       192\n",
              "Light Thunderstorms and Rain       176\n",
              "Drizzle                            112\n",
              "Light Thunderstorm                  64\n",
              "Light Fog                           64\n",
              "Heavy Rain                          28\n",
              "Heavy Thunderstorms and Rain        22\n",
              "Thunderstorms with Hail             11\n",
              "Squalls                              6\n",
              "Light Sandstorm                      6\n",
              "Light Rain Showers                   5\n",
              "Light Haze                           4\n",
              "Volcanic Ash                         4\n",
              "Rain Showers                         2\n",
              "Sandstorm                            2\n",
              "Funnel Cloud                         2\n",
              "Heavy Thunderstorms with Hail        1\n",
              "Light Freezing Rain                  1\n",
              "Light Hail Showers                   1\n",
              "Name: _conds, dtype: int64"
            ]
          },
          "metadata": {
            "tags": []
          },
          "execution_count": 9
        }
      ]
    },
    {
      "cell_type": "code",
      "metadata": {
        "id": "jgi3JAifBNw4",
        "colab_type": "code",
        "outputId": "530424d6-bae3-41cb-b1f3-de6a97e36d04",
        "colab": {
          "base_uri": "https://localhost:8080/",
          "height": 703
        }
      },
      "source": [
        "# Lets plot top 10 weather condition in delhi.\n",
        "plt.figure(figsize=(15, 10));\n",
        "df._conds.value_counts().head(10).plot(kind='bar');\n",
        "plt.title(\"Top 10 most common weather condition\")\n",
        "plt.plot();\n",
        "# We can clearly see that haze and smoe are the most commo weather condition in delhi."
      ],
      "execution_count": 0,
      "outputs": [
        {
          "output_type": "display_data",
          "data": {
            "image/png": "[encoded data removed]",
            "text/plain": [
              "<Figure size 1080x720 with 1 Axes>"
            ]
          },
          "metadata": {
            "tags": []
          }
        }
      ]
    },
    {
      "cell_type": "code",
      "metadata": {
        "id": "33l71fp5BNxH",
        "colab_type": "code",
        "outputId": "9c01dc4c-e7b6-42ba-ee90-af92c4af59e6",
        "colab": {
          "base_uri": "https://localhost:8080/",
          "height": 775
        }
      },
      "source": [
        "# Lets see top 10 least condition\n",
        "plt.figure(figsize=(15, 10));\n",
        "df._conds.value_counts(ascending=True).head(10).plot(kind=\"bar\");\n",
        "plt.title(\"Top 10 least whether condition in delhi\");\n",
        "plt.plot();"
      ],
      "execution_count": 0,
      "outputs": [
        {
          "output_type": "display_data",
          "data": {
            "image/png": "[encoded data removed]",
            "text/plain": [
              "<Figure size 1080x720 with 1 Axes>"
            ]
          },
          "metadata": {
            "tags": []
          }
        }
      ]
    },
    {
      "cell_type": "code",
      "metadata": {
        "id": "1_14j1mmBNxS",
        "colab_type": "code",
        "outputId": "bfb02aa0-9b76-48cb-ff51-c3f11ba9a445",
        "colab": {
          "base_uri": "https://localhost:8080/",
          "height": 334
        }
      },
      "source": [
        "# common wind direction\n",
        "df._wdire.value_counts()"
      ],
      "execution_count": 0,
      "outputs": [
        {
          "output_type": "execute_result",
          "data": {
            "text/plain": [
              "North       19034\n",
              "West        11888\n",
              "WNW          7464\n",
              "East         7233\n",
              "NW           7117\n",
              "WSW          5466\n",
              "ESE          5336\n",
              "ENE          3721\n",
              "SE           3513\n",
              "SW           3200\n",
              "NNW          2696\n",
              "NE           2500\n",
              "SSE          2052\n",
              "NNE          1752\n",
              "SSW          1715\n",
              "South        1543\n",
              "Variable        5\n",
              "Name: _wdire, dtype: int64"
            ]
          },
          "metadata": {
            "tags": []
          },
          "execution_count": 12
        }
      ]
    },
    {
      "cell_type": "code",
      "metadata": {
        "id": "0VOU7rYTBNxe",
        "colab_type": "code",
        "outputId": "d138ee0e-1297-43ba-f1ea-d79c12dc69a9",
        "colab": {
          "base_uri": "https://localhost:8080/",
          "height": 659
        }
      },
      "source": [
        "plt.figure(figsize=(15, 10));\n",
        "plt.title(\"Common wind direction in delhi\");\n",
        "df._wdire.value_counts().plot(kind=\"bar\");\n",
        "plt.plot();"
      ],
      "execution_count": 0,
      "outputs": [
        {
          "output_type": "display_data",
          "data": {
            "image/png": "[encoded data removed]",
            "text/plain": [
              "<Figure size 1080x720 with 1 Axes>"
            ]
          },
          "metadata": {
            "tags": []
          }
        }
      ]
    },
    {
      "cell_type": "code",
      "metadata": {
        "id": "FBitbbLNBNxq",
        "colab_type": "code",
        "outputId": "05e1c829-9e30-4ca1-e92d-daa68edf6677",
        "colab": {
          "base_uri": "https://localhost:8080/",
          "height": 34
        }
      },
      "source": [
        "# Average temprature\n",
        "print(\"average temprature in delhi:\", round(df._tempm.mean(axis=0),2))"
      ],
      "execution_count": 0,
      "outputs": [
        {
          "output_type": "stream",
          "text": [
            "average temprature in delhi: 25.45\n"
          ],
          "name": "stdout"
        }
      ]
    },
    {
      "cell_type": "code",
      "metadata": {
        "id": "uYRFLynwBNx0",
        "colab_type": "code",
        "colab": {}
      },
      "source": [
        "# As we can see there is datetime column, We can extract year from it. Year can ve an important feature\n",
        "# for us to calculate how temprature is changing according to year\n",
        "def extract_year(value):\n",
        "    return (value[0:4])"
      ],
      "execution_count": 0,
      "outputs": []
    },
    {
      "cell_type": "code",
      "metadata": {
        "id": "IVHnP9d4BNx-",
        "colab_type": "code",
        "outputId": "73570bfd-75e8-4c76-9658-398e3df82109",
        "colab": {
          "base_uri": "https://localhost:8080/",
          "height": 299
        }
      },
      "source": [
        "df.head()"
      ],
      "execution_count": 0,
      "outputs": [
        {
          "output_type": "execute_result",
          "data": {
            "text/html": [
              "<div>\n",
              "<style scoped>\n",
              "    .dataframe tbody tr th:only-of-type {\n",
              "        vertical-align: middle;\n",
              "    }\n",
              "\n",
              "    .dataframe tbody tr th {\n",
              "        vertical-align: top;\n",
              "    }\n",
              "\n",
              "    .dataframe thead th {\n",
              "        text-align: right;\n",
              "    }\n",
              "</style>\n",
              "<table border=\"1\" class=\"dataframe\">\n",
              "  <thead>\n",
              "    <tr style=\"text-align: right;\">\n",
              "      <th></th>\n",
              "      <th>datetime_utc</th>\n",
              "      <th>_conds</th>\n",
              "      <th>_dewptm</th>\n",
              "      <th>_fog</th>\n",
              "      <th>_hail</th>\n",
              "      <th>_heatindexm</th>\n",
              "      <th>_hum</th>\n",
              "      <th>_precipm</th>\n",
              "      <th>_pressurem</th>\n",
              "      <th>_rain</th>\n",
              "      <th>_snow</th>\n",
              "      <th>_tempm</th>\n",
              "      <th>_thunder</th>\n",
              "      <th>_tornado</th>\n",
              "      <th>_vism</th>\n",
              "      <th>_wdird</th>\n",
              "      <th>_wdire</th>\n",
              "      <th>_wgustm</th>\n",
              "      <th>_windchillm</th>\n",
              "      <th>_wspdm</th>\n",
              "    </tr>\n",
              "  </thead>\n",
              "  <tbody>\n",
              "    <tr>\n",
              "      <th>0</th>\n",
              "      <td>19961101-11:00</td>\n",
              "      <td>Smoke</td>\n",
              "      <td>9.0</td>\n",
              "      <td>0</td>\n",
              "      <td>0</td>\n",
              "      <td>NaN</td>\n",
              "      <td>27.0</td>\n",
              "      <td>NaN</td>\n",
              "      <td>1010.0</td>\n",
              "      <td>0</td>\n",
              "      <td>0</td>\n",
              "      <td>30.0</td>\n",
              "      <td>0</td>\n",
              "      <td>0</td>\n",
              "      <td>5.0</td>\n",
              "      <td>280.0</td>\n",
              "      <td>West</td>\n",
              "      <td>NaN</td>\n",
              "      <td>NaN</td>\n",
              "      <td>7.4</td>\n",
              "    </tr>\n",
              "    <tr>\n",
              "      <th>1</th>\n",
              "      <td>19961101-12:00</td>\n",
              "      <td>Smoke</td>\n",
              "      <td>10.0</td>\n",
              "      <td>0</td>\n",
              "      <td>0</td>\n",
              "      <td>NaN</td>\n",
              "      <td>32.0</td>\n",
              "      <td>NaN</td>\n",
              "      <td>-9999.0</td>\n",
              "      <td>0</td>\n",
              "      <td>0</td>\n",
              "      <td>28.0</td>\n",
              "      <td>0</td>\n",
              "      <td>0</td>\n",
              "      <td>NaN</td>\n",
              "      <td>0.0</td>\n",
              "      <td>North</td>\n",
              "      <td>NaN</td>\n",
              "      <td>NaN</td>\n",
              "      <td>NaN</td>\n",
              "    </tr>\n",
              "    <tr>\n",
              "      <th>2</th>\n",
              "      <td>19961101-13:00</td>\n",
              "      <td>Smoke</td>\n",
              "      <td>11.0</td>\n",
              "      <td>0</td>\n",
              "      <td>0</td>\n",
              "      <td>NaN</td>\n",
              "      <td>44.0</td>\n",
              "      <td>NaN</td>\n",
              "      <td>-9999.0</td>\n",
              "      <td>0</td>\n",
              "      <td>0</td>\n",
              "      <td>24.0</td>\n",
              "      <td>0</td>\n",
              "      <td>0</td>\n",
              "      <td>NaN</td>\n",
              "      <td>0.0</td>\n",
              "      <td>North</td>\n",
              "      <td>NaN</td>\n",
              "      <td>NaN</td>\n",
              "      <td>NaN</td>\n",
              "    </tr>\n",
              "    <tr>\n",
              "      <th>3</th>\n",
              "      <td>19961101-14:00</td>\n",
              "      <td>Smoke</td>\n",
              "      <td>10.0</td>\n",
              "      <td>0</td>\n",
              "      <td>0</td>\n",
              "      <td>NaN</td>\n",
              "      <td>41.0</td>\n",
              "      <td>NaN</td>\n",
              "      <td>1010.0</td>\n",
              "      <td>0</td>\n",
              "      <td>0</td>\n",
              "      <td>24.0</td>\n",
              "      <td>0</td>\n",
              "      <td>0</td>\n",
              "      <td>2.0</td>\n",
              "      <td>0.0</td>\n",
              "      <td>North</td>\n",
              "      <td>NaN</td>\n",
              "      <td>NaN</td>\n",
              "      <td>NaN</td>\n",
              "    </tr>\n",
              "    <tr>\n",
              "      <th>4</th>\n",
              "      <td>19961101-16:00</td>\n",
              "      <td>Smoke</td>\n",
              "      <td>11.0</td>\n",
              "      <td>0</td>\n",
              "      <td>0</td>\n",
              "      <td>NaN</td>\n",
              "      <td>47.0</td>\n",
              "      <td>NaN</td>\n",
              "      <td>1011.0</td>\n",
              "      <td>0</td>\n",
              "      <td>0</td>\n",
              "      <td>23.0</td>\n",
              "      <td>0</td>\n",
              "      <td>0</td>\n",
              "      <td>1.2</td>\n",
              "      <td>0.0</td>\n",
              "      <td>North</td>\n",
              "      <td>NaN</td>\n",
              "      <td>NaN</td>\n",
              "      <td>0.0</td>\n",
              "    </tr>\n",
              "  </tbody>\n",
              "</table>\n",
              "</div>"
            ],
            "text/plain": [
              "     datetime_utc _conds  _dewptm  _fog  ...  _wdire  _wgustm  _windchillm  _wspdm\n",
              "0  19961101-11:00  Smoke      9.0     0  ...    West      NaN          NaN     7.4\n",
              "1  19961101-12:00  Smoke     10.0     0  ...   North      NaN          NaN     NaN\n",
              "2  19961101-13:00  Smoke     11.0     0  ...   North      NaN          NaN     NaN\n",
              "3  19961101-14:00  Smoke     10.0     0  ...   North      NaN          NaN     NaN\n",
              "4  19961101-16:00  Smoke     11.0     0  ...   North      NaN          NaN     0.0\n",
              "\n",
              "[5 rows x 20 columns]"
            ]
          },
          "metadata": {
            "tags": []
          },
          "execution_count": 16
        }
      ]
    },
    {
      "cell_type": "code",
      "metadata": {
        "id": "TBOeRpL0BNyK",
        "colab_type": "code",
        "colab": {}
      },
      "source": [
        "# function to get month\n",
        "def extract_month(value):\n",
        "    return (value[4:6])"
      ],
      "execution_count": 0,
      "outputs": []
    },
    {
      "cell_type": "code",
      "metadata": {
        "id": "kAn6uBGRBNyR",
        "colab_type": "code",
        "colab": {}
      },
      "source": [
        "# Lets check our method\n",
        "df[\"year\"] = df[\"datetime_utc\"].apply(lambda x:extract_year(x))\n",
        "df[\"month\"] = df[\"datetime_utc\"].apply(lambda x:extract_month(x))"
      ],
      "execution_count": 0,
      "outputs": []
    },
    {
      "cell_type": "code",
      "metadata": {
        "id": "yJapIbwhBNyg",
        "colab_type": "code",
        "outputId": "f0786e7e-672e-47d5-bb45-4e8a05cea362",
        "colab": {
          "base_uri": "https://localhost:8080/",
          "height": 299
        }
      },
      "source": [
        "df.head() # So we can see a new column with year added"
      ],
      "execution_count": 0,
      "outputs": [
        {
          "output_type": "execute_result",
          "data": {
            "text/html": [
              "<div>\n",
              "<style scoped>\n",
              "    .dataframe tbody tr th:only-of-type {\n",
              "        vertical-align: middle;\n",
              "    }\n",
              "\n",
              "    .dataframe tbody tr th {\n",
              "        vertical-align: top;\n",
              "    }\n",
              "\n",
              "    .dataframe thead th {\n",
              "        text-align: right;\n",
              "    }\n",
              "</style>\n",
              "<table border=\"1\" class=\"dataframe\">\n",
              "  <thead>\n",
              "    <tr style=\"text-align: right;\">\n",
              "      <th></th>\n",
              "      <th>datetime_utc</th>\n",
              "      <th>_conds</th>\n",
              "      <th>_dewptm</th>\n",
              "      <th>_fog</th>\n",
              "      <th>_hail</th>\n",
              "      <th>_heatindexm</th>\n",
              "      <th>_hum</th>\n",
              "      <th>_precipm</th>\n",
              "      <th>_pressurem</th>\n",
              "      <th>_rain</th>\n",
              "      <th>_snow</th>\n",
              "      <th>_tempm</th>\n",
              "      <th>_thunder</th>\n",
              "      <th>_tornado</th>\n",
              "      <th>_vism</th>\n",
              "      <th>_wdird</th>\n",
              "      <th>_wdire</th>\n",
              "      <th>_wgustm</th>\n",
              "      <th>_windchillm</th>\n",
              "      <th>_wspdm</th>\n",
              "      <th>year</th>\n",
              "      <th>month</th>\n",
              "    </tr>\n",
              "  </thead>\n",
              "  <tbody>\n",
              "    <tr>\n",
              "      <th>0</th>\n",
              "      <td>19961101-11:00</td>\n",
              "      <td>Smoke</td>\n",
              "      <td>9.0</td>\n",
              "      <td>0</td>\n",
              "      <td>0</td>\n",
              "      <td>NaN</td>\n",
              "      <td>27.0</td>\n",
              "      <td>NaN</td>\n",
              "      <td>1010.0</td>\n",
              "      <td>0</td>\n",
              "      <td>0</td>\n",
              "      <td>30.0</td>\n",
              "      <td>0</td>\n",
              "      <td>0</td>\n",
              "      <td>5.0</td>\n",
              "      <td>280.0</td>\n",
              "      <td>West</td>\n",
              "      <td>NaN</td>\n",
              "      <td>NaN</td>\n",
              "      <td>7.4</td>\n",
              "      <td>1996</td>\n",
              "      <td>11</td>\n",
              "    </tr>\n",
              "    <tr>\n",
              "      <th>1</th>\n",
              "      <td>19961101-12:00</td>\n",
              "      <td>Smoke</td>\n",
              "      <td>10.0</td>\n",
              "      <td>0</td>\n",
              "      <td>0</td>\n",
              "      <td>NaN</td>\n",
              "      <td>32.0</td>\n",
              "      <td>NaN</td>\n",
              "      <td>-9999.0</td>\n",
              "      <td>0</td>\n",
              "      <td>0</td>\n",
              "      <td>28.0</td>\n",
              "      <td>0</td>\n",
              "      <td>0</td>\n",
              "      <td>NaN</td>\n",
              "      <td>0.0</td>\n",
              "      <td>North</td>\n",
              "      <td>NaN</td>\n",
              "      <td>NaN</td>\n",
              "      <td>NaN</td>\n",
              "      <td>1996</td>\n",
              "      <td>11</td>\n",
              "    </tr>\n",
              "    <tr>\n",
              "      <th>2</th>\n",
              "      <td>19961101-13:00</td>\n",
              "      <td>Smoke</td>\n",
              "      <td>11.0</td>\n",
              "      <td>0</td>\n",
              "      <td>0</td>\n",
              "      <td>NaN</td>\n",
              "      <td>44.0</td>\n",
              "      <td>NaN</td>\n",
              "      <td>-9999.0</td>\n",
              "      <td>0</td>\n",
              "      <td>0</td>\n",
              "      <td>24.0</td>\n",
              "      <td>0</td>\n",
              "      <td>0</td>\n",
              "      <td>NaN</td>\n",
              "      <td>0.0</td>\n",
              "      <td>North</td>\n",
              "      <td>NaN</td>\n",
              "      <td>NaN</td>\n",
              "      <td>NaN</td>\n",
              "      <td>1996</td>\n",
              "      <td>11</td>\n",
              "    </tr>\n",
              "    <tr>\n",
              "      <th>3</th>\n",
              "      <td>19961101-14:00</td>\n",
              "      <td>Smoke</td>\n",
              "      <td>10.0</td>\n",
              "      <td>0</td>\n",
              "      <td>0</td>\n",
              "      <td>NaN</td>\n",
              "      <td>41.0</td>\n",
              "      <td>NaN</td>\n",
              "      <td>1010.0</td>\n",
              "      <td>0</td>\n",
              "      <td>0</td>\n",
              "      <td>24.0</td>\n",
              "      <td>0</td>\n",
              "      <td>0</td>\n",
              "      <td>2.0</td>\n",
              "      <td>0.0</td>\n",
              "      <td>North</td>\n",
              "      <td>NaN</td>\n",
              "      <td>NaN</td>\n",
              "      <td>NaN</td>\n",
              "      <td>1996</td>\n",
              "      <td>11</td>\n",
              "    </tr>\n",
              "    <tr>\n",
              "      <th>4</th>\n",
              "      <td>19961101-16:00</td>\n",
              "      <td>Smoke</td>\n",
              "      <td>11.0</td>\n",
              "      <td>0</td>\n",
              "      <td>0</td>\n",
              "      <td>NaN</td>\n",
              "      <td>47.0</td>\n",
              "      <td>NaN</td>\n",
              "      <td>1011.0</td>\n",
              "      <td>0</td>\n",
              "      <td>0</td>\n",
              "      <td>23.0</td>\n",
              "      <td>0</td>\n",
              "      <td>0</td>\n",
              "      <td>1.2</td>\n",
              "      <td>0.0</td>\n",
              "      <td>North</td>\n",
              "      <td>NaN</td>\n",
              "      <td>NaN</td>\n",
              "      <td>0.0</td>\n",
              "      <td>1996</td>\n",
              "      <td>11</td>\n",
              "    </tr>\n",
              "  </tbody>\n",
              "</table>\n",
              "</div>"
            ],
            "text/plain": [
              "     datetime_utc _conds  _dewptm  _fog  ...  _windchillm  _wspdm  year  month\n",
              "0  19961101-11:00  Smoke      9.0     0  ...          NaN     7.4  1996     11\n",
              "1  19961101-12:00  Smoke     10.0     0  ...          NaN     NaN  1996     11\n",
              "2  19961101-13:00  Smoke     11.0     0  ...          NaN     NaN  1996     11\n",
              "3  19961101-14:00  Smoke     10.0     0  ...          NaN     NaN  1996     11\n",
              "4  19961101-16:00  Smoke     11.0     0  ...          NaN     0.0  1996     11\n",
              "\n",
              "[5 rows x 22 columns]"
            ]
          },
          "metadata": {
            "tags": []
          },
          "execution_count": 19
        }
      ]
    },
    {
      "cell_type": "code",
      "metadata": {
        "id": "fR_d6X7ABNyp",
        "colab_type": "code",
        "outputId": "79944501-62fa-4b24-d963-3dc26b0effa3",
        "colab": {
          "base_uri": "https://localhost:8080/",
          "height": 34
        }
      },
      "source": [
        "# lets check out data range\n",
        "print(\"max, min: \", df.year.max(), \",\", df.year.min())"
      ],
      "execution_count": 0,
      "outputs": [
        {
          "output_type": "stream",
          "text": [
            "max, min:  2017 , 1996\n"
          ],
          "name": "stdout"
        }
      ]
    },
    {
      "cell_type": "code",
      "metadata": {
        "id": "5I-uYRSgBNyz",
        "colab_type": "code",
        "colab": {}
      },
      "source": [
        "# So our given data is from 1996 to 2017. "
      ],
      "execution_count": 0,
      "outputs": []
    },
    {
      "cell_type": "code",
      "metadata": {
        "id": "uM7byRcuBNy7",
        "colab_type": "code",
        "outputId": "36047da0-c225-4999-d7b8-c732cfa97672",
        "colab": {
          "base_uri": "https://localhost:8080/",
          "height": 422
        }
      },
      "source": [
        "# Number of records for paticular year\n",
        "df.year.value_counts()"
      ],
      "execution_count": 0,
      "outputs": [
        {
          "output_type": "execute_result",
          "data": {
            "text/plain": [
              "2003    13186\n",
              "2004     9151\n",
              "2002     8503\n",
              "2001     8403\n",
              "2016     6634\n",
              "1997     6513\n",
              "1999     6300\n",
              "2000     5391\n",
              "1998     3579\n",
              "2014     2973\n",
              "2015     2936\n",
              "2005     2920\n",
              "2007     2865\n",
              "2006     2858\n",
              "2008     2857\n",
              "2009     2851\n",
              "2010     2768\n",
              "2011     2738\n",
              "2012     2438\n",
              "2013     2428\n",
              "2017     1420\n",
              "1996     1278\n",
              "Name: year, dtype: int64"
            ]
          },
          "metadata": {
            "tags": []
          },
          "execution_count": 22
        }
      ]
    },
    {
      "cell_type": "code",
      "metadata": {
        "id": "33quQwTEBNzG",
        "colab_type": "code",
        "outputId": "b682ded1-8428-4194-8990-34642317ed7f",
        "colab": {
          "base_uri": "https://localhost:8080/",
          "height": 439
        }
      },
      "source": [
        "df.groupby(\"year\")._tempm.mean()"
      ],
      "execution_count": 0,
      "outputs": [
        {
          "output_type": "execute_result",
          "data": {
            "text/plain": [
              "year\n",
              "1996    16.518636\n",
              "1997    24.444635\n",
              "1998    24.847371\n",
              "1999    27.335731\n",
              "2000    23.865647\n",
              "2001    25.582460\n",
              "2002    26.481948\n",
              "2003    26.176556\n",
              "2004    26.004396\n",
              "2005    24.712715\n",
              "2006    25.449245\n",
              "2007    24.800211\n",
              "2008    24.525744\n",
              "2009    25.355360\n",
              "2010    25.553338\n",
              "2011    24.966362\n",
              "2012    25.024661\n",
              "2013    24.679222\n",
              "2014    25.175735\n",
              "2015    25.141832\n",
              "2016    27.315734\n",
              "2017    20.204369\n",
              "Name: _tempm, dtype: float64"
            ]
          },
          "metadata": {
            "tags": []
          },
          "execution_count": 23
        }
      ]
    },
    {
      "cell_type": "code",
      "metadata": {
        "id": "3-ZT7PAsBNzS",
        "colab_type": "code",
        "colab": {}
      },
      "source": [
        "df_mean = df.groupby(\"year\")._tempm.mean().reset_index().sort_values('_tempm', ascending=True)"
      ],
      "execution_count": 0,
      "outputs": []
    },
    {
      "cell_type": "code",
      "metadata": {
        "id": "LT_s2f0PBNza",
        "colab_type": "code",
        "outputId": "9fa8ed7c-8fd5-4130-971a-8ed8243ceced",
        "colab": {
          "base_uri": "https://localhost:8080/",
          "height": 70
        }
      },
      "source": [
        "df_mean.dtypes"
      ],
      "execution_count": 0,
      "outputs": [
        {
          "output_type": "execute_result",
          "data": {
            "text/plain": [
              "year       object\n",
              "_tempm    float64\n",
              "dtype: object"
            ]
          },
          "metadata": {
            "tags": []
          },
          "execution_count": 25
        }
      ]
    },
    {
      "cell_type": "code",
      "metadata": {
        "id": "VjGQzPxwBNzj",
        "colab_type": "code",
        "colab": {}
      },
      "source": [
        "df_mean.year = df_mean.year.astype(\"float\")"
      ],
      "execution_count": 0,
      "outputs": []
    },
    {
      "cell_type": "code",
      "metadata": {
        "id": "r9W3khLlBNzq",
        "colab_type": "code",
        "outputId": "86e0e336-613f-444b-8cc3-c726d78abe44",
        "colab": {
          "base_uri": "https://localhost:8080/",
          "height": 70
        }
      },
      "source": [
        "df_mean.dtypes"
      ],
      "execution_count": 0,
      "outputs": [
        {
          "output_type": "execute_result",
          "data": {
            "text/plain": [
              "year      float64\n",
              "_tempm    float64\n",
              "dtype: object"
            ]
          },
          "metadata": {
            "tags": []
          },
          "execution_count": 27
        }
      ]
    },
    {
      "cell_type": "code",
      "metadata": {
        "id": "1FV_-ZdwBNz2",
        "colab_type": "code",
        "outputId": "10efe35f-a34c-4aed-ab8b-98d926399ea7",
        "colab": {
          "base_uri": "https://localhost:8080/",
          "height": 641
        }
      },
      "source": [
        "\n",
        "df_mean.plot(kind=\"scatter\", x=\"year\", y=\"_tempm\", figsize=(15, 10))\n",
        "\n",
        "plt.xticks(df_mean.year);\n",
        "plt.title(\"Average temprature change\");\n",
        "plt.plot();"
      ],
      "execution_count": 0,
      "outputs": [
        {
          "output_type": "display_data",
          "data": {
            "image/png": "[encoded data removed]",
            "text/plain": [
              "<Figure size 1080x720 with 1 Axes>"
            ]
          },
          "metadata": {
            "tags": []
          }
        }
      ]
    },
    {
      "cell_type": "markdown",
      "metadata": {
        "id": "7PKeWbgSBNz_",
        "colab_type": "text"
      },
      "source": [
        "So u can see there was a big change in year 1996-1997. It may be because of many reasons:\n",
        "1. New industries started in the city.\n",
        "2. People started purchasing more vehicles.\n",
        "or any other reasons."
      ]
    },
    {
      "cell_type": "markdown",
      "metadata": {
        "id": "L6KzHErCBN0C",
        "colab_type": "text"
      },
      "source": [
        "# Missing Values"
      ]
    },
    {
      "cell_type": "code",
      "metadata": {
        "id": "MWhD3E9JBN0D",
        "colab_type": "code",
        "outputId": "6f1df19d-783f-430c-8abc-267c0f3bafc5",
        "colab": {
          "base_uri": "https://localhost:8080/",
          "height": 422
        }
      },
      "source": [
        "df.isnull().sum()"
      ],
      "execution_count": 0,
      "outputs": [
        {
          "output_type": "execute_result",
          "data": {
            "text/plain": [
              "datetime_utc         0\n",
              "_conds              72\n",
              "_dewptm            621\n",
              "_fog                 0\n",
              "_hail                0\n",
              "_heatindexm      71835\n",
              "_hum               757\n",
              "_precipm        100990\n",
              "_pressurem         232\n",
              "_rain                0\n",
              "_snow                0\n",
              "_tempm             673\n",
              "_thunder             0\n",
              "_tornado             0\n",
              "_vism             4428\n",
              "_wdird           14755\n",
              "_wdire           14755\n",
              "_wgustm          99918\n",
              "_windchillm     100411\n",
              "_wspdm            2358\n",
              "year                 0\n",
              "month                0\n",
              "dtype: int64"
            ]
          },
          "metadata": {
            "tags": []
          },
          "execution_count": 29
        }
      ]
    },
    {
      "cell_type": "markdown",
      "metadata": {
        "id": "QqZYZLDfBN0P",
        "colab_type": "text"
      },
      "source": [
        "We will make copy of original dataset and will take only relevant columns."
      ]
    },
    {
      "cell_type": "code",
      "metadata": {
        "id": "wz6EtAW7BN0S",
        "colab_type": "code",
        "outputId": "525f1d78-43ef-4ca9-f323-d7083e8daae8",
        "colab": {
          "base_uri": "https://localhost:8080/",
          "height": 105
        }
      },
      "source": [
        "df.columns"
      ],
      "execution_count": 0,
      "outputs": [
        {
          "output_type": "execute_result",
          "data": {
            "text/plain": [
              "Index(['datetime_utc', '_conds', '_dewptm', '_fog', '_hail', '_heatindexm',\n",
              "       '_hum', '_precipm', '_pressurem', '_rain', '_snow', '_tempm',\n",
              "       '_thunder', '_tornado', '_vism', '_wdird', '_wdire', '_wgustm',\n",
              "       '_windchillm', '_wspdm', 'year', 'month'],\n",
              "      dtype='object')"
            ]
          },
          "metadata": {
            "tags": []
          },
          "execution_count": 30
        }
      ]
    },
    {
      "cell_type": "code",
      "metadata": {
        "id": "nIh4Idx7BN0Y",
        "colab_type": "code",
        "colab": {}
      },
      "source": [
        "df_filtered = df[['datetime_utc', '_conds', '_dewptm', '_fog', '_hail',\n",
        "       '_hum', '_pressurem', '_rain', '_snow', '_tempm',\n",
        "       '_thunder', '_tornado', '_vism', '_wdird', '_wdire'\n",
        "       , '_wspdm', 'year', \"month\"]]"
      ],
      "execution_count": 0,
      "outputs": []
    },
    {
      "cell_type": "code",
      "metadata": {
        "id": "xDW8Abb8BN0e",
        "colab_type": "code",
        "outputId": "2591b565-6e7b-4bd9-d946-cf160a38195b",
        "colab": {
          "base_uri": "https://localhost:8080/",
          "height": 590
        }
      },
      "source": [
        "# Lets replace missing values in _dewptm. We can take an avrgae of that year\n",
        "df_filtered[df_filtered._dewptm.isnull()]"
      ],
      "execution_count": 0,
      "outputs": [
        {
          "output_type": "execute_result",
          "data": {
            "text/html": [
              "<div>\n",
              "<style scoped>\n",
              "    .dataframe tbody tr th:only-of-type {\n",
              "        vertical-align: middle;\n",
              "    }\n",
              "\n",
              "    .dataframe tbody tr th {\n",
              "        vertical-align: top;\n",
              "    }\n",
              "\n",
              "    .dataframe thead th {\n",
              "        text-align: right;\n",
              "    }\n",
              "</style>\n",
              "<table border=\"1\" class=\"dataframe\">\n",
              "  <thead>\n",
              "    <tr style=\"text-align: right;\">\n",
              "      <th></th>\n",
              "      <th>datetime_utc</th>\n",
              "      <th>_conds</th>\n",
              "      <th>_dewptm</th>\n",
              "      <th>_fog</th>\n",
              "      <th>_hail</th>\n",
              "      <th>_hum</th>\n",
              "      <th>_pressurem</th>\n",
              "      <th>_rain</th>\n",
              "      <th>_snow</th>\n",
              "      <th>_tempm</th>\n",
              "      <th>_thunder</th>\n",
              "      <th>_tornado</th>\n",
              "      <th>_vism</th>\n",
              "      <th>_wdird</th>\n",
              "      <th>_wdire</th>\n",
              "      <th>_wspdm</th>\n",
              "      <th>year</th>\n",
              "      <th>month</th>\n",
              "    </tr>\n",
              "  </thead>\n",
              "  <tbody>\n",
              "    <tr>\n",
              "      <th>124</th>\n",
              "      <td>19961108-01:00</td>\n",
              "      <td>Smoke</td>\n",
              "      <td>NaN</td>\n",
              "      <td>0</td>\n",
              "      <td>0</td>\n",
              "      <td>NaN</td>\n",
              "      <td>1014.0</td>\n",
              "      <td>0</td>\n",
              "      <td>0</td>\n",
              "      <td>NaN</td>\n",
              "      <td>0</td>\n",
              "      <td>0</td>\n",
              "      <td>2.0</td>\n",
              "      <td>0.0</td>\n",
              "      <td>North</td>\n",
              "      <td>0.0</td>\n",
              "      <td>1996</td>\n",
              "      <td>11</td>\n",
              "    </tr>\n",
              "    <tr>\n",
              "      <th>240</th>\n",
              "      <td>19961113-02:00</td>\n",
              "      <td>Smoke</td>\n",
              "      <td>NaN</td>\n",
              "      <td>0</td>\n",
              "      <td>0</td>\n",
              "      <td>NaN</td>\n",
              "      <td>1012.0</td>\n",
              "      <td>0</td>\n",
              "      <td>0</td>\n",
              "      <td>NaN</td>\n",
              "      <td>0</td>\n",
              "      <td>0</td>\n",
              "      <td>NaN</td>\n",
              "      <td>280.0</td>\n",
              "      <td>West</td>\n",
              "      <td>5.6</td>\n",
              "      <td>1996</td>\n",
              "      <td>11</td>\n",
              "    </tr>\n",
              "    <tr>\n",
              "      <th>303</th>\n",
              "      <td>19961116-06:00</td>\n",
              "      <td>Unknown</td>\n",
              "      <td>NaN</td>\n",
              "      <td>0</td>\n",
              "      <td>0</td>\n",
              "      <td>NaN</td>\n",
              "      <td>-9999.0</td>\n",
              "      <td>0</td>\n",
              "      <td>0</td>\n",
              "      <td>NaN</td>\n",
              "      <td>0</td>\n",
              "      <td>0</td>\n",
              "      <td>NaN</td>\n",
              "      <td>0.0</td>\n",
              "      <td>North</td>\n",
              "      <td>NaN</td>\n",
              "      <td>1996</td>\n",
              "      <td>11</td>\n",
              "    </tr>\n",
              "    <tr>\n",
              "      <th>520</th>\n",
              "      <td>19961126-04:00</td>\n",
              "      <td>Smoke</td>\n",
              "      <td>NaN</td>\n",
              "      <td>0</td>\n",
              "      <td>0</td>\n",
              "      <td>NaN</td>\n",
              "      <td>1017.0</td>\n",
              "      <td>0</td>\n",
              "      <td>0</td>\n",
              "      <td>NaN</td>\n",
              "      <td>0</td>\n",
              "      <td>0</td>\n",
              "      <td>1.6</td>\n",
              "      <td>0.0</td>\n",
              "      <td>North</td>\n",
              "      <td>0.0</td>\n",
              "      <td>1996</td>\n",
              "      <td>11</td>\n",
              "    </tr>\n",
              "    <tr>\n",
              "      <th>584</th>\n",
              "      <td>19961129-18:00</td>\n",
              "      <td>Smoke</td>\n",
              "      <td>NaN</td>\n",
              "      <td>0</td>\n",
              "      <td>0</td>\n",
              "      <td>NaN</td>\n",
              "      <td>-9999.0</td>\n",
              "      <td>0</td>\n",
              "      <td>0</td>\n",
              "      <td>NaN</td>\n",
              "      <td>0</td>\n",
              "      <td>0</td>\n",
              "      <td>0.7</td>\n",
              "      <td>0.0</td>\n",
              "      <td>North</td>\n",
              "      <td>0.0</td>\n",
              "      <td>1996</td>\n",
              "      <td>11</td>\n",
              "    </tr>\n",
              "    <tr>\n",
              "      <th>...</th>\n",
              "      <td>...</td>\n",
              "      <td>...</td>\n",
              "      <td>...</td>\n",
              "      <td>...</td>\n",
              "      <td>...</td>\n",
              "      <td>...</td>\n",
              "      <td>...</td>\n",
              "      <td>...</td>\n",
              "      <td>...</td>\n",
              "      <td>...</td>\n",
              "      <td>...</td>\n",
              "      <td>...</td>\n",
              "      <td>...</td>\n",
              "      <td>...</td>\n",
              "      <td>...</td>\n",
              "      <td>...</td>\n",
              "      <td>...</td>\n",
              "      <td>...</td>\n",
              "    </tr>\n",
              "    <tr>\n",
              "      <th>96965</th>\n",
              "      <td>20160907-08:30</td>\n",
              "      <td>Haze</td>\n",
              "      <td>NaN</td>\n",
              "      <td>0</td>\n",
              "      <td>0</td>\n",
              "      <td>NaN</td>\n",
              "      <td>1005.0</td>\n",
              "      <td>0</td>\n",
              "      <td>0</td>\n",
              "      <td>NaN</td>\n",
              "      <td>0</td>\n",
              "      <td>0</td>\n",
              "      <td>4.5</td>\n",
              "      <td>320.0</td>\n",
              "      <td>NW</td>\n",
              "      <td>9.3</td>\n",
              "      <td>2016</td>\n",
              "      <td>09</td>\n",
              "    </tr>\n",
              "    <tr>\n",
              "      <th>97259</th>\n",
              "      <td>20160924-12:30</td>\n",
              "      <td>Haze</td>\n",
              "      <td>NaN</td>\n",
              "      <td>0</td>\n",
              "      <td>0</td>\n",
              "      <td>NaN</td>\n",
              "      <td>1002.0</td>\n",
              "      <td>0</td>\n",
              "      <td>0</td>\n",
              "      <td>NaN</td>\n",
              "      <td>0</td>\n",
              "      <td>0</td>\n",
              "      <td>3.0</td>\n",
              "      <td>0.0</td>\n",
              "      <td>North</td>\n",
              "      <td>0.0</td>\n",
              "      <td>2016</td>\n",
              "      <td>09</td>\n",
              "    </tr>\n",
              "    <tr>\n",
              "      <th>98049</th>\n",
              "      <td>20161025-07:30</td>\n",
              "      <td>Widespread Dust</td>\n",
              "      <td>NaN</td>\n",
              "      <td>0</td>\n",
              "      <td>0</td>\n",
              "      <td>NaN</td>\n",
              "      <td>1009.0</td>\n",
              "      <td>0</td>\n",
              "      <td>0</td>\n",
              "      <td>NaN</td>\n",
              "      <td>0</td>\n",
              "      <td>0</td>\n",
              "      <td>3.5</td>\n",
              "      <td>280.0</td>\n",
              "      <td>West</td>\n",
              "      <td>14.8</td>\n",
              "      <td>2016</td>\n",
              "      <td>10</td>\n",
              "    </tr>\n",
              "    <tr>\n",
              "      <th>99347</th>\n",
              "      <td>20161221-05:30</td>\n",
              "      <td>Haze</td>\n",
              "      <td>NaN</td>\n",
              "      <td>0</td>\n",
              "      <td>0</td>\n",
              "      <td>NaN</td>\n",
              "      <td>1018.0</td>\n",
              "      <td>0</td>\n",
              "      <td>0</td>\n",
              "      <td>NaN</td>\n",
              "      <td>0</td>\n",
              "      <td>0</td>\n",
              "      <td>3.0</td>\n",
              "      <td>270.0</td>\n",
              "      <td>West</td>\n",
              "      <td>11.1</td>\n",
              "      <td>2016</td>\n",
              "      <td>12</td>\n",
              "    </tr>\n",
              "    <tr>\n",
              "      <th>99716</th>\n",
              "      <td>20170108-03:00</td>\n",
              "      <td>Patches of Fog</td>\n",
              "      <td>NaN</td>\n",
              "      <td>1</td>\n",
              "      <td>0</td>\n",
              "      <td>NaN</td>\n",
              "      <td>1016.0</td>\n",
              "      <td>0</td>\n",
              "      <td>0</td>\n",
              "      <td>NaN</td>\n",
              "      <td>0</td>\n",
              "      <td>0</td>\n",
              "      <td>0.5</td>\n",
              "      <td>NaN</td>\n",
              "      <td>NaN</td>\n",
              "      <td>0.0</td>\n",
              "      <td>2017</td>\n",
              "      <td>01</td>\n",
              "    </tr>\n",
              "  </tbody>\n",
              "</table>\n",
              "<p>621 rows × 18 columns</p>\n",
              "</div>"
            ],
            "text/plain": [
              "         datetime_utc           _conds  _dewptm  ...  _wspdm  year  month\n",
              "124    19961108-01:00            Smoke      NaN  ...     0.0  1996     11\n",
              "240    19961113-02:00            Smoke      NaN  ...     5.6  1996     11\n",
              "303    19961116-06:00          Unknown      NaN  ...     NaN  1996     11\n",
              "520    19961126-04:00            Smoke      NaN  ...     0.0  1996     11\n",
              "584    19961129-18:00            Smoke      NaN  ...     0.0  1996     11\n",
              "...               ...              ...      ...  ...     ...   ...    ...\n",
              "96965  20160907-08:30             Haze      NaN  ...     9.3  2016     09\n",
              "97259  20160924-12:30             Haze      NaN  ...     0.0  2016     09\n",
              "98049  20161025-07:30  Widespread Dust      NaN  ...    14.8  2016     10\n",
              "99347  20161221-05:30             Haze      NaN  ...    11.1  2016     12\n",
              "99716  20170108-03:00   Patches of Fog      NaN  ...     0.0  2017     01\n",
              "\n",
              "[621 rows x 18 columns]"
            ]
          },
          "metadata": {
            "tags": []
          },
          "execution_count": 32
        }
      ]
    },
    {
      "cell_type": "code",
      "metadata": {
        "id": "FmSHJWtJBN0o",
        "colab_type": "code",
        "colab": {}
      },
      "source": [
        "# We will try to replace value with average value of that year\n",
        "for index,row in df_filtered[df_filtered._dewptm.isnull()].iterrows():\n",
        "    mean_val = df_filtered[df_filtered[\"year\"] == row[\"year\"]]._dewptm.mean()\n",
        "    df_filtered.at[index, \"_dewptm\"] = mean_val\n",
        "    "
      ],
      "execution_count": 0,
      "outputs": []
    },
    {
      "cell_type": "code",
      "metadata": {
        "id": "YLrzLgHUBN0z",
        "colab_type": "code",
        "outputId": "081abde6-fd4c-4af5-ec39-bc65282a97f6",
        "colab": {
          "base_uri": "https://localhost:8080/",
          "height": 67
        }
      },
      "source": [
        "df_filtered[df_filtered._dewptm.isnull()] # We replaced null values fof _dewtmp"
      ],
      "execution_count": 0,
      "outputs": [
        {
          "output_type": "execute_result",
          "data": {
            "text/html": [
              "<div>\n",
              "<style scoped>\n",
              "    .dataframe tbody tr th:only-of-type {\n",
              "        vertical-align: middle;\n",
              "    }\n",
              "\n",
              "    .dataframe tbody tr th {\n",
              "        vertical-align: top;\n",
              "    }\n",
              "\n",
              "    .dataframe thead th {\n",
              "        text-align: right;\n",
              "    }\n",
              "</style>\n",
              "<table border=\"1\" class=\"dataframe\">\n",
              "  <thead>\n",
              "    <tr style=\"text-align: right;\">\n",
              "      <th></th>\n",
              "      <th>datetime_utc</th>\n",
              "      <th>_conds</th>\n",
              "      <th>_dewptm</th>\n",
              "      <th>_fog</th>\n",
              "      <th>_hail</th>\n",
              "      <th>_hum</th>\n",
              "      <th>_pressurem</th>\n",
              "      <th>_rain</th>\n",
              "      <th>_snow</th>\n",
              "      <th>_tempm</th>\n",
              "      <th>_thunder</th>\n",
              "      <th>_tornado</th>\n",
              "      <th>_vism</th>\n",
              "      <th>_wdird</th>\n",
              "      <th>_wdire</th>\n",
              "      <th>_wspdm</th>\n",
              "      <th>year</th>\n",
              "      <th>month</th>\n",
              "    </tr>\n",
              "  </thead>\n",
              "  <tbody>\n",
              "  </tbody>\n",
              "</table>\n",
              "</div>"
            ],
            "text/plain": [
              "Empty DataFrame\n",
              "Columns: [datetime_utc, _conds, _dewptm, _fog, _hail, _hum, _pressurem, _rain, _snow, _tempm, _thunder, _tornado, _vism, _wdird, _wdire, _wspdm, year, month]\n",
              "Index: []"
            ]
          },
          "metadata": {
            "tags": []
          },
          "execution_count": 34
        }
      ]
    },
    {
      "cell_type": "code",
      "metadata": {
        "id": "nAXo8omiBN05",
        "colab_type": "code",
        "outputId": "b034a299-92d7-4c90-ce9b-e022dc02aa46",
        "colab": {
          "base_uri": "https://localhost:8080/",
          "height": 34
        }
      },
      "source": [
        "df_filtered.shape"
      ],
      "execution_count": 0,
      "outputs": [
        {
          "output_type": "execute_result",
          "data": {
            "text/plain": [
              "(100990, 18)"
            ]
          },
          "metadata": {
            "tags": []
          },
          "execution_count": 35
        }
      ]
    },
    {
      "cell_type": "code",
      "metadata": {
        "id": "Jht2pTUSBN1A",
        "colab_type": "code",
        "outputId": "8e20f03e-e30f-4ced-cd60-29df5bec766a",
        "colab": {
          "base_uri": "https://localhost:8080/",
          "height": 351
        }
      },
      "source": [
        "df_filtered.isnull().sum()\n",
        "# so now we have only relevant columns. Lets handle them one by one."
      ],
      "execution_count": 0,
      "outputs": [
        {
          "output_type": "execute_result",
          "data": {
            "text/plain": [
              "datetime_utc        0\n",
              "_conds             72\n",
              "_dewptm             0\n",
              "_fog                0\n",
              "_hail               0\n",
              "_hum              757\n",
              "_pressurem        232\n",
              "_rain               0\n",
              "_snow               0\n",
              "_tempm            673\n",
              "_thunder            0\n",
              "_tornado            0\n",
              "_vism            4428\n",
              "_wdird          14755\n",
              "_wdire          14755\n",
              "_wspdm           2358\n",
              "year                0\n",
              "month               0\n",
              "dtype: int64"
            ]
          },
          "metadata": {
            "tags": []
          },
          "execution_count": 36
        }
      ]
    },
    {
      "cell_type": "code",
      "metadata": {
        "id": "uhMbKqomBN1J",
        "colab_type": "code",
        "outputId": "e0faaba1-ec23-4602-e78f-8822a5e3e5f3",
        "colab": {
          "base_uri": "https://localhost:8080/",
          "height": 590
        }
      },
      "source": [
        "# Handle _hum column.\n",
        "df_filtered[df_filtered._hum.isnull()]"
      ],
      "execution_count": 0,
      "outputs": [
        {
          "output_type": "execute_result",
          "data": {
            "text/html": [
              "<div>\n",
              "<style scoped>\n",
              "    .dataframe tbody tr th:only-of-type {\n",
              "        vertical-align: middle;\n",
              "    }\n",
              "\n",
              "    .dataframe tbody tr th {\n",
              "        vertical-align: top;\n",
              "    }\n",
              "\n",
              "    .dataframe thead th {\n",
              "        text-align: right;\n",
              "    }\n",
              "</style>\n",
              "<table border=\"1\" class=\"dataframe\">\n",
              "  <thead>\n",
              "    <tr style=\"text-align: right;\">\n",
              "      <th></th>\n",
              "      <th>datetime_utc</th>\n",
              "      <th>_conds</th>\n",
              "      <th>_dewptm</th>\n",
              "      <th>_fog</th>\n",
              "      <th>_hail</th>\n",
              "      <th>_hum</th>\n",
              "      <th>_pressurem</th>\n",
              "      <th>_rain</th>\n",
              "      <th>_snow</th>\n",
              "      <th>_tempm</th>\n",
              "      <th>_thunder</th>\n",
              "      <th>_tornado</th>\n",
              "      <th>_vism</th>\n",
              "      <th>_wdird</th>\n",
              "      <th>_wdire</th>\n",
              "      <th>_wspdm</th>\n",
              "      <th>year</th>\n",
              "      <th>month</th>\n",
              "    </tr>\n",
              "  </thead>\n",
              "  <tbody>\n",
              "    <tr>\n",
              "      <th>124</th>\n",
              "      <td>19961108-01:00</td>\n",
              "      <td>Smoke</td>\n",
              "      <td>5.992851</td>\n",
              "      <td>0</td>\n",
              "      <td>0</td>\n",
              "      <td>NaN</td>\n",
              "      <td>1014.0</td>\n",
              "      <td>0</td>\n",
              "      <td>0</td>\n",
              "      <td>NaN</td>\n",
              "      <td>0</td>\n",
              "      <td>0</td>\n",
              "      <td>2.00</td>\n",
              "      <td>0.0</td>\n",
              "      <td>North</td>\n",
              "      <td>0.0</td>\n",
              "      <td>1996</td>\n",
              "      <td>11</td>\n",
              "    </tr>\n",
              "    <tr>\n",
              "      <th>240</th>\n",
              "      <td>19961113-02:00</td>\n",
              "      <td>Smoke</td>\n",
              "      <td>5.992851</td>\n",
              "      <td>0</td>\n",
              "      <td>0</td>\n",
              "      <td>NaN</td>\n",
              "      <td>1012.0</td>\n",
              "      <td>0</td>\n",
              "      <td>0</td>\n",
              "      <td>NaN</td>\n",
              "      <td>0</td>\n",
              "      <td>0</td>\n",
              "      <td>NaN</td>\n",
              "      <td>280.0</td>\n",
              "      <td>West</td>\n",
              "      <td>5.6</td>\n",
              "      <td>1996</td>\n",
              "      <td>11</td>\n",
              "    </tr>\n",
              "    <tr>\n",
              "      <th>303</th>\n",
              "      <td>19961116-06:00</td>\n",
              "      <td>Unknown</td>\n",
              "      <td>5.992851</td>\n",
              "      <td>0</td>\n",
              "      <td>0</td>\n",
              "      <td>NaN</td>\n",
              "      <td>-9999.0</td>\n",
              "      <td>0</td>\n",
              "      <td>0</td>\n",
              "      <td>NaN</td>\n",
              "      <td>0</td>\n",
              "      <td>0</td>\n",
              "      <td>NaN</td>\n",
              "      <td>0.0</td>\n",
              "      <td>North</td>\n",
              "      <td>NaN</td>\n",
              "      <td>1996</td>\n",
              "      <td>11</td>\n",
              "    </tr>\n",
              "    <tr>\n",
              "      <th>520</th>\n",
              "      <td>19961126-04:00</td>\n",
              "      <td>Smoke</td>\n",
              "      <td>5.992851</td>\n",
              "      <td>0</td>\n",
              "      <td>0</td>\n",
              "      <td>NaN</td>\n",
              "      <td>1017.0</td>\n",
              "      <td>0</td>\n",
              "      <td>0</td>\n",
              "      <td>NaN</td>\n",
              "      <td>0</td>\n",
              "      <td>0</td>\n",
              "      <td>1.60</td>\n",
              "      <td>0.0</td>\n",
              "      <td>North</td>\n",
              "      <td>0.0</td>\n",
              "      <td>1996</td>\n",
              "      <td>11</td>\n",
              "    </tr>\n",
              "    <tr>\n",
              "      <th>584</th>\n",
              "      <td>19961129-18:00</td>\n",
              "      <td>Smoke</td>\n",
              "      <td>5.992851</td>\n",
              "      <td>0</td>\n",
              "      <td>0</td>\n",
              "      <td>NaN</td>\n",
              "      <td>-9999.0</td>\n",
              "      <td>0</td>\n",
              "      <td>0</td>\n",
              "      <td>NaN</td>\n",
              "      <td>0</td>\n",
              "      <td>0</td>\n",
              "      <td>0.70</td>\n",
              "      <td>0.0</td>\n",
              "      <td>North</td>\n",
              "      <td>0.0</td>\n",
              "      <td>1996</td>\n",
              "      <td>11</td>\n",
              "    </tr>\n",
              "    <tr>\n",
              "      <th>...</th>\n",
              "      <td>...</td>\n",
              "      <td>...</td>\n",
              "      <td>...</td>\n",
              "      <td>...</td>\n",
              "      <td>...</td>\n",
              "      <td>...</td>\n",
              "      <td>...</td>\n",
              "      <td>...</td>\n",
              "      <td>...</td>\n",
              "      <td>...</td>\n",
              "      <td>...</td>\n",
              "      <td>...</td>\n",
              "      <td>...</td>\n",
              "      <td>...</td>\n",
              "      <td>...</td>\n",
              "      <td>...</td>\n",
              "      <td>...</td>\n",
              "      <td>...</td>\n",
              "    </tr>\n",
              "    <tr>\n",
              "      <th>98641</th>\n",
              "      <td>20161117-07:30</td>\n",
              "      <td>Unknown</td>\n",
              "      <td>10.000000</td>\n",
              "      <td>0</td>\n",
              "      <td>0</td>\n",
              "      <td>NaN</td>\n",
              "      <td>1017.0</td>\n",
              "      <td>0</td>\n",
              "      <td>0</td>\n",
              "      <td>NaN</td>\n",
              "      <td>0</td>\n",
              "      <td>0</td>\n",
              "      <td>NaN</td>\n",
              "      <td>0.0</td>\n",
              "      <td>North</td>\n",
              "      <td>NaN</td>\n",
              "      <td>2016</td>\n",
              "      <td>11</td>\n",
              "    </tr>\n",
              "    <tr>\n",
              "      <th>99268</th>\n",
              "      <td>20161217-09:00</td>\n",
              "      <td>Smoke</td>\n",
              "      <td>11.000000</td>\n",
              "      <td>0</td>\n",
              "      <td>0</td>\n",
              "      <td>NaN</td>\n",
              "      <td>1016.0</td>\n",
              "      <td>0</td>\n",
              "      <td>0</td>\n",
              "      <td>NaN</td>\n",
              "      <td>0</td>\n",
              "      <td>0</td>\n",
              "      <td>1.00</td>\n",
              "      <td>20.0</td>\n",
              "      <td>NNE</td>\n",
              "      <td>25.9</td>\n",
              "      <td>2016</td>\n",
              "      <td>12</td>\n",
              "    </tr>\n",
              "    <tr>\n",
              "      <th>99347</th>\n",
              "      <td>20161221-05:30</td>\n",
              "      <td>Haze</td>\n",
              "      <td>18.274320</td>\n",
              "      <td>0</td>\n",
              "      <td>0</td>\n",
              "      <td>NaN</td>\n",
              "      <td>1018.0</td>\n",
              "      <td>0</td>\n",
              "      <td>0</td>\n",
              "      <td>NaN</td>\n",
              "      <td>0</td>\n",
              "      <td>0</td>\n",
              "      <td>3.00</td>\n",
              "      <td>270.0</td>\n",
              "      <td>West</td>\n",
              "      <td>11.1</td>\n",
              "      <td>2016</td>\n",
              "      <td>12</td>\n",
              "    </tr>\n",
              "    <tr>\n",
              "      <th>99567</th>\n",
              "      <td>20161231-15:00</td>\n",
              "      <td>NaN</td>\n",
              "      <td>13.000000</td>\n",
              "      <td>0</td>\n",
              "      <td>0</td>\n",
              "      <td>NaN</td>\n",
              "      <td>1016.0</td>\n",
              "      <td>0</td>\n",
              "      <td>0</td>\n",
              "      <td>NaN</td>\n",
              "      <td>0</td>\n",
              "      <td>0</td>\n",
              "      <td>0.05</td>\n",
              "      <td>10.0</td>\n",
              "      <td>North</td>\n",
              "      <td>59.3</td>\n",
              "      <td>2016</td>\n",
              "      <td>12</td>\n",
              "    </tr>\n",
              "    <tr>\n",
              "      <th>99716</th>\n",
              "      <td>20170108-03:00</td>\n",
              "      <td>Patches of Fog</td>\n",
              "      <td>12.451022</td>\n",
              "      <td>1</td>\n",
              "      <td>0</td>\n",
              "      <td>NaN</td>\n",
              "      <td>1016.0</td>\n",
              "      <td>0</td>\n",
              "      <td>0</td>\n",
              "      <td>NaN</td>\n",
              "      <td>0</td>\n",
              "      <td>0</td>\n",
              "      <td>0.50</td>\n",
              "      <td>NaN</td>\n",
              "      <td>NaN</td>\n",
              "      <td>0.0</td>\n",
              "      <td>2017</td>\n",
              "      <td>01</td>\n",
              "    </tr>\n",
              "  </tbody>\n",
              "</table>\n",
              "<p>757 rows × 18 columns</p>\n",
              "</div>"
            ],
            "text/plain": [
              "         datetime_utc          _conds    _dewptm  ...  _wspdm  year  month\n",
              "124    19961108-01:00           Smoke   5.992851  ...     0.0  1996     11\n",
              "240    19961113-02:00           Smoke   5.992851  ...     5.6  1996     11\n",
              "303    19961116-06:00         Unknown   5.992851  ...     NaN  1996     11\n",
              "520    19961126-04:00           Smoke   5.992851  ...     0.0  1996     11\n",
              "584    19961129-18:00           Smoke   5.992851  ...     0.0  1996     11\n",
              "...               ...             ...        ...  ...     ...   ...    ...\n",
              "98641  20161117-07:30         Unknown  10.000000  ...     NaN  2016     11\n",
              "99268  20161217-09:00           Smoke  11.000000  ...    25.9  2016     12\n",
              "99347  20161221-05:30            Haze  18.274320  ...    11.1  2016     12\n",
              "99567  20161231-15:00             NaN  13.000000  ...    59.3  2016     12\n",
              "99716  20170108-03:00  Patches of Fog  12.451022  ...     0.0  2017     01\n",
              "\n",
              "[757 rows x 18 columns]"
            ]
          },
          "metadata": {
            "tags": []
          },
          "execution_count": 37
        }
      ]
    },
    {
      "cell_type": "code",
      "metadata": {
        "id": "FVwEW9LsBN1R",
        "colab_type": "code",
        "colab": {}
      },
      "source": [
        "# We will use the same logic o replace as we did before.\n",
        "# We will try to replace value with average value of that year\n",
        "for index,row in df_filtered[df_filtered._hum.isnull()].iterrows():\n",
        "    mean_val = df_filtered[df_filtered[\"year\"] == row[\"year\"]]._hum.mean()\n",
        "    df_filtered.at[index, \"_hum\"] = mean_val\n",
        "    "
      ],
      "execution_count": 0,
      "outputs": []
    },
    {
      "cell_type": "code",
      "metadata": {
        "id": "E-5NPVBZBN1X",
        "colab_type": "code",
        "outputId": "7c4240da-c381-4ff2-d2a5-13b3268bee4d",
        "colab": {
          "base_uri": "https://localhost:8080/",
          "height": 67
        }
      },
      "source": [
        "df_filtered[df_filtered._hum.isnull()] # replaced"
      ],
      "execution_count": 0,
      "outputs": [
        {
          "output_type": "execute_result",
          "data": {
            "text/html": [
              "<div>\n",
              "<style scoped>\n",
              "    .dataframe tbody tr th:only-of-type {\n",
              "        vertical-align: middle;\n",
              "    }\n",
              "\n",
              "    .dataframe tbody tr th {\n",
              "        vertical-align: top;\n",
              "    }\n",
              "\n",
              "    .dataframe thead th {\n",
              "        text-align: right;\n",
              "    }\n",
              "</style>\n",
              "<table border=\"1\" class=\"dataframe\">\n",
              "  <thead>\n",
              "    <tr style=\"text-align: right;\">\n",
              "      <th></th>\n",
              "      <th>datetime_utc</th>\n",
              "      <th>_conds</th>\n",
              "      <th>_dewptm</th>\n",
              "      <th>_fog</th>\n",
              "      <th>_hail</th>\n",
              "      <th>_hum</th>\n",
              "      <th>_pressurem</th>\n",
              "      <th>_rain</th>\n",
              "      <th>_snow</th>\n",
              "      <th>_tempm</th>\n",
              "      <th>_thunder</th>\n",
              "      <th>_tornado</th>\n",
              "      <th>_vism</th>\n",
              "      <th>_wdird</th>\n",
              "      <th>_wdire</th>\n",
              "      <th>_wspdm</th>\n",
              "      <th>year</th>\n",
              "      <th>month</th>\n",
              "    </tr>\n",
              "  </thead>\n",
              "  <tbody>\n",
              "  </tbody>\n",
              "</table>\n",
              "</div>"
            ],
            "text/plain": [
              "Empty DataFrame\n",
              "Columns: [datetime_utc, _conds, _dewptm, _fog, _hail, _hum, _pressurem, _rain, _snow, _tempm, _thunder, _tornado, _vism, _wdird, _wdire, _wspdm, year, month]\n",
              "Index: []"
            ]
          },
          "metadata": {
            "tags": []
          },
          "execution_count": 39
        }
      ]
    },
    {
      "cell_type": "code",
      "metadata": {
        "id": "QXNLWjEqBN1d",
        "colab_type": "code",
        "outputId": "2f7d45e0-200f-4d2e-f107-ca5a7bdc3f3b",
        "colab": {
          "base_uri": "https://localhost:8080/",
          "height": 351
        }
      },
      "source": [
        "df_filtered.isnull().sum() # Now lets handle _pressurem"
      ],
      "execution_count": 0,
      "outputs": [
        {
          "output_type": "execute_result",
          "data": {
            "text/plain": [
              "datetime_utc        0\n",
              "_conds             72\n",
              "_dewptm             0\n",
              "_fog                0\n",
              "_hail               0\n",
              "_hum                0\n",
              "_pressurem        232\n",
              "_rain               0\n",
              "_snow               0\n",
              "_tempm            673\n",
              "_thunder            0\n",
              "_tornado            0\n",
              "_vism            4428\n",
              "_wdird          14755\n",
              "_wdire          14755\n",
              "_wspdm           2358\n",
              "year                0\n",
              "month               0\n",
              "dtype: int64"
            ]
          },
          "metadata": {
            "tags": []
          },
          "execution_count": 40
        }
      ]
    },
    {
      "cell_type": "code",
      "metadata": {
        "id": "cwbDXZe5BN1j",
        "colab_type": "code",
        "outputId": "1a30ca5c-ddc5-4641-fc60-dd96de601cbb",
        "colab": {
          "base_uri": "https://localhost:8080/",
          "height": 590
        }
      },
      "source": [
        "df_filtered[df_filtered._pressurem.isnull()]"
      ],
      "execution_count": 0,
      "outputs": [
        {
          "output_type": "execute_result",
          "data": {
            "text/html": [
              "<div>\n",
              "<style scoped>\n",
              "    .dataframe tbody tr th:only-of-type {\n",
              "        vertical-align: middle;\n",
              "    }\n",
              "\n",
              "    .dataframe tbody tr th {\n",
              "        vertical-align: top;\n",
              "    }\n",
              "\n",
              "    .dataframe thead th {\n",
              "        text-align: right;\n",
              "    }\n",
              "</style>\n",
              "<table border=\"1\" class=\"dataframe\">\n",
              "  <thead>\n",
              "    <tr style=\"text-align: right;\">\n",
              "      <th></th>\n",
              "      <th>datetime_utc</th>\n",
              "      <th>_conds</th>\n",
              "      <th>_dewptm</th>\n",
              "      <th>_fog</th>\n",
              "      <th>_hail</th>\n",
              "      <th>_hum</th>\n",
              "      <th>_pressurem</th>\n",
              "      <th>_rain</th>\n",
              "      <th>_snow</th>\n",
              "      <th>_tempm</th>\n",
              "      <th>_thunder</th>\n",
              "      <th>_tornado</th>\n",
              "      <th>_vism</th>\n",
              "      <th>_wdird</th>\n",
              "      <th>_wdire</th>\n",
              "      <th>_wspdm</th>\n",
              "      <th>year</th>\n",
              "      <th>month</th>\n",
              "    </tr>\n",
              "  </thead>\n",
              "  <tbody>\n",
              "    <tr>\n",
              "      <th>60703</th>\n",
              "      <td>20040625-21:00</td>\n",
              "      <td>Haze</td>\n",
              "      <td>21.0</td>\n",
              "      <td>0</td>\n",
              "      <td>0</td>\n",
              "      <td>62.0</td>\n",
              "      <td>NaN</td>\n",
              "      <td>0</td>\n",
              "      <td>0</td>\n",
              "      <td>26.0</td>\n",
              "      <td>0</td>\n",
              "      <td>0</td>\n",
              "      <td>2.0</td>\n",
              "      <td>NaN</td>\n",
              "      <td>NaN</td>\n",
              "      <td>0.0</td>\n",
              "      <td>2004</td>\n",
              "      <td>06</td>\n",
              "    </tr>\n",
              "    <tr>\n",
              "      <th>60723</th>\n",
              "      <td>20040628-09:00</td>\n",
              "      <td>Haze</td>\n",
              "      <td>20.0</td>\n",
              "      <td>0</td>\n",
              "      <td>0</td>\n",
              "      <td>27.0</td>\n",
              "      <td>NaN</td>\n",
              "      <td>0</td>\n",
              "      <td>0</td>\n",
              "      <td>37.0</td>\n",
              "      <td>0</td>\n",
              "      <td>0</td>\n",
              "      <td>4.0</td>\n",
              "      <td>0.0</td>\n",
              "      <td>North</td>\n",
              "      <td>3.7</td>\n",
              "      <td>2004</td>\n",
              "      <td>06</td>\n",
              "    </tr>\n",
              "    <tr>\n",
              "      <th>60728</th>\n",
              "      <td>20040629-00:00</td>\n",
              "      <td>Haze</td>\n",
              "      <td>21.0</td>\n",
              "      <td>0</td>\n",
              "      <td>0</td>\n",
              "      <td>63.0</td>\n",
              "      <td>NaN</td>\n",
              "      <td>0</td>\n",
              "      <td>0</td>\n",
              "      <td>27.0</td>\n",
              "      <td>0</td>\n",
              "      <td>0</td>\n",
              "      <td>2.0</td>\n",
              "      <td>NaN</td>\n",
              "      <td>NaN</td>\n",
              "      <td>0.0</td>\n",
              "      <td>2004</td>\n",
              "      <td>06</td>\n",
              "    </tr>\n",
              "    <tr>\n",
              "      <th>60921</th>\n",
              "      <td>20040723-09:00</td>\n",
              "      <td>Haze</td>\n",
              "      <td>24.0</td>\n",
              "      <td>0</td>\n",
              "      <td>0</td>\n",
              "      <td>37.0</td>\n",
              "      <td>NaN</td>\n",
              "      <td>0</td>\n",
              "      <td>0</td>\n",
              "      <td>37.0</td>\n",
              "      <td>0</td>\n",
              "      <td>0</td>\n",
              "      <td>2.0</td>\n",
              "      <td>NaN</td>\n",
              "      <td>NaN</td>\n",
              "      <td>0.0</td>\n",
              "      <td>2004</td>\n",
              "      <td>07</td>\n",
              "    </tr>\n",
              "    <tr>\n",
              "      <th>61255</th>\n",
              "      <td>20040829-18:00</td>\n",
              "      <td>Haze</td>\n",
              "      <td>27.0</td>\n",
              "      <td>0</td>\n",
              "      <td>0</td>\n",
              "      <td>75.0</td>\n",
              "      <td>NaN</td>\n",
              "      <td>0</td>\n",
              "      <td>0</td>\n",
              "      <td>31.0</td>\n",
              "      <td>0</td>\n",
              "      <td>0</td>\n",
              "      <td>2.0</td>\n",
              "      <td>NaN</td>\n",
              "      <td>NaN</td>\n",
              "      <td>0.0</td>\n",
              "      <td>2004</td>\n",
              "      <td>08</td>\n",
              "    </tr>\n",
              "    <tr>\n",
              "      <th>...</th>\n",
              "      <td>...</td>\n",
              "      <td>...</td>\n",
              "      <td>...</td>\n",
              "      <td>...</td>\n",
              "      <td>...</td>\n",
              "      <td>...</td>\n",
              "      <td>...</td>\n",
              "      <td>...</td>\n",
              "      <td>...</td>\n",
              "      <td>...</td>\n",
              "      <td>...</td>\n",
              "      <td>...</td>\n",
              "      <td>...</td>\n",
              "      <td>...</td>\n",
              "      <td>...</td>\n",
              "      <td>...</td>\n",
              "      <td>...</td>\n",
              "      <td>...</td>\n",
              "    </tr>\n",
              "    <tr>\n",
              "      <th>96567</th>\n",
              "      <td>20160821-00:00</td>\n",
              "      <td>Mist</td>\n",
              "      <td>25.0</td>\n",
              "      <td>0</td>\n",
              "      <td>0</td>\n",
              "      <td>81.0</td>\n",
              "      <td>NaN</td>\n",
              "      <td>0</td>\n",
              "      <td>0</td>\n",
              "      <td>28.0</td>\n",
              "      <td>0</td>\n",
              "      <td>0</td>\n",
              "      <td>2.0</td>\n",
              "      <td>110.0</td>\n",
              "      <td>ESE</td>\n",
              "      <td>9.3</td>\n",
              "      <td>2016</td>\n",
              "      <td>08</td>\n",
              "    </tr>\n",
              "    <tr>\n",
              "      <th>96907</th>\n",
              "      <td>20160902-18:00</td>\n",
              "      <td>Mist</td>\n",
              "      <td>25.0</td>\n",
              "      <td>0</td>\n",
              "      <td>0</td>\n",
              "      <td>79.0</td>\n",
              "      <td>NaN</td>\n",
              "      <td>0</td>\n",
              "      <td>0</td>\n",
              "      <td>28.0</td>\n",
              "      <td>0</td>\n",
              "      <td>0</td>\n",
              "      <td>2.0</td>\n",
              "      <td>270.0</td>\n",
              "      <td>West</td>\n",
              "      <td>7.4</td>\n",
              "      <td>2016</td>\n",
              "      <td>09</td>\n",
              "    </tr>\n",
              "    <tr>\n",
              "      <th>98402</th>\n",
              "      <td>20161108-06:00</td>\n",
              "      <td>Smoke</td>\n",
              "      <td>14.0</td>\n",
              "      <td>0</td>\n",
              "      <td>0</td>\n",
              "      <td>39.0</td>\n",
              "      <td>NaN</td>\n",
              "      <td>0</td>\n",
              "      <td>0</td>\n",
              "      <td>25.0</td>\n",
              "      <td>0</td>\n",
              "      <td>0</td>\n",
              "      <td>1.0</td>\n",
              "      <td>270.0</td>\n",
              "      <td>West</td>\n",
              "      <td>22.2</td>\n",
              "      <td>2016</td>\n",
              "      <td>11</td>\n",
              "    </tr>\n",
              "    <tr>\n",
              "      <th>98820</th>\n",
              "      <td>20161126-09:00</td>\n",
              "      <td>Haze</td>\n",
              "      <td>8.0</td>\n",
              "      <td>0</td>\n",
              "      <td>0</td>\n",
              "      <td>15.0</td>\n",
              "      <td>NaN</td>\n",
              "      <td>0</td>\n",
              "      <td>0</td>\n",
              "      <td>30.0</td>\n",
              "      <td>0</td>\n",
              "      <td>0</td>\n",
              "      <td>4.0</td>\n",
              "      <td>290.0</td>\n",
              "      <td>WNW</td>\n",
              "      <td>14.8</td>\n",
              "      <td>2016</td>\n",
              "      <td>11</td>\n",
              "    </tr>\n",
              "    <tr>\n",
              "      <th>99069</th>\n",
              "      <td>20161207-12:00</td>\n",
              "      <td>Smoke</td>\n",
              "      <td>16.0</td>\n",
              "      <td>0</td>\n",
              "      <td>0</td>\n",
              "      <td>60.0</td>\n",
              "      <td>NaN</td>\n",
              "      <td>0</td>\n",
              "      <td>0</td>\n",
              "      <td>22.0</td>\n",
              "      <td>0</td>\n",
              "      <td>0</td>\n",
              "      <td>0.5</td>\n",
              "      <td>NaN</td>\n",
              "      <td>NaN</td>\n",
              "      <td>0.0</td>\n",
              "      <td>2016</td>\n",
              "      <td>12</td>\n",
              "    </tr>\n",
              "  </tbody>\n",
              "</table>\n",
              "<p>232 rows × 18 columns</p>\n",
              "</div>"
            ],
            "text/plain": [
              "         datetime_utc _conds  _dewptm  _fog  ...  _wdire  _wspdm  year  month\n",
              "60703  20040625-21:00   Haze     21.0     0  ...     NaN     0.0  2004     06\n",
              "60723  20040628-09:00   Haze     20.0     0  ...   North     3.7  2004     06\n",
              "60728  20040629-00:00   Haze     21.0     0  ...     NaN     0.0  2004     06\n",
              "60921  20040723-09:00   Haze     24.0     0  ...     NaN     0.0  2004     07\n",
              "61255  20040829-18:00   Haze     27.0     0  ...     NaN     0.0  2004     08\n",
              "...               ...    ...      ...   ...  ...     ...     ...   ...    ...\n",
              "96567  20160821-00:00   Mist     25.0     0  ...     ESE     9.3  2016     08\n",
              "96907  20160902-18:00   Mist     25.0     0  ...    West     7.4  2016     09\n",
              "98402  20161108-06:00  Smoke     14.0     0  ...    West    22.2  2016     11\n",
              "98820  20161126-09:00   Haze      8.0     0  ...     WNW    14.8  2016     11\n",
              "99069  20161207-12:00  Smoke     16.0     0  ...     NaN     0.0  2016     12\n",
              "\n",
              "[232 rows x 18 columns]"
            ]
          },
          "metadata": {
            "tags": []
          },
          "execution_count": 41
        }
      ]
    },
    {
      "cell_type": "code",
      "metadata": {
        "id": "bD_c_xy-BN1u",
        "colab_type": "code",
        "outputId": "6fb524f5-b1fe-42aa-baff-d6128d4460f0",
        "colab": {
          "base_uri": "https://localhost:8080/",
          "height": 299
        }
      },
      "source": [
        "df_filtered.head()"
      ],
      "execution_count": 0,
      "outputs": [
        {
          "output_type": "execute_result",
          "data": {
            "text/html": [
              "<div>\n",
              "<style scoped>\n",
              "    .dataframe tbody tr th:only-of-type {\n",
              "        vertical-align: middle;\n",
              "    }\n",
              "\n",
              "    .dataframe tbody tr th {\n",
              "        vertical-align: top;\n",
              "    }\n",
              "\n",
              "    .dataframe thead th {\n",
              "        text-align: right;\n",
              "    }\n",
              "</style>\n",
              "<table border=\"1\" class=\"dataframe\">\n",
              "  <thead>\n",
              "    <tr style=\"text-align: right;\">\n",
              "      <th></th>\n",
              "      <th>datetime_utc</th>\n",
              "      <th>_conds</th>\n",
              "      <th>_dewptm</th>\n",
              "      <th>_fog</th>\n",
              "      <th>_hail</th>\n",
              "      <th>_hum</th>\n",
              "      <th>_pressurem</th>\n",
              "      <th>_rain</th>\n",
              "      <th>_snow</th>\n",
              "      <th>_tempm</th>\n",
              "      <th>_thunder</th>\n",
              "      <th>_tornado</th>\n",
              "      <th>_vism</th>\n",
              "      <th>_wdird</th>\n",
              "      <th>_wdire</th>\n",
              "      <th>_wspdm</th>\n",
              "      <th>year</th>\n",
              "      <th>month</th>\n",
              "    </tr>\n",
              "  </thead>\n",
              "  <tbody>\n",
              "    <tr>\n",
              "      <th>0</th>\n",
              "      <td>19961101-11:00</td>\n",
              "      <td>Smoke</td>\n",
              "      <td>9.0</td>\n",
              "      <td>0</td>\n",
              "      <td>0</td>\n",
              "      <td>27.0</td>\n",
              "      <td>1010.0</td>\n",
              "      <td>0</td>\n",
              "      <td>0</td>\n",
              "      <td>30.0</td>\n",
              "      <td>0</td>\n",
              "      <td>0</td>\n",
              "      <td>5.0</td>\n",
              "      <td>280.0</td>\n",
              "      <td>West</td>\n",
              "      <td>7.4</td>\n",
              "      <td>1996</td>\n",
              "      <td>11</td>\n",
              "    </tr>\n",
              "    <tr>\n",
              "      <th>1</th>\n",
              "      <td>19961101-12:00</td>\n",
              "      <td>Smoke</td>\n",
              "      <td>10.0</td>\n",
              "      <td>0</td>\n",
              "      <td>0</td>\n",
              "      <td>32.0</td>\n",
              "      <td>-9999.0</td>\n",
              "      <td>0</td>\n",
              "      <td>0</td>\n",
              "      <td>28.0</td>\n",
              "      <td>0</td>\n",
              "      <td>0</td>\n",
              "      <td>NaN</td>\n",
              "      <td>0.0</td>\n",
              "      <td>North</td>\n",
              "      <td>NaN</td>\n",
              "      <td>1996</td>\n",
              "      <td>11</td>\n",
              "    </tr>\n",
              "    <tr>\n",
              "      <th>2</th>\n",
              "      <td>19961101-13:00</td>\n",
              "      <td>Smoke</td>\n",
              "      <td>11.0</td>\n",
              "      <td>0</td>\n",
              "      <td>0</td>\n",
              "      <td>44.0</td>\n",
              "      <td>-9999.0</td>\n",
              "      <td>0</td>\n",
              "      <td>0</td>\n",
              "      <td>24.0</td>\n",
              "      <td>0</td>\n",
              "      <td>0</td>\n",
              "      <td>NaN</td>\n",
              "      <td>0.0</td>\n",
              "      <td>North</td>\n",
              "      <td>NaN</td>\n",
              "      <td>1996</td>\n",
              "      <td>11</td>\n",
              "    </tr>\n",
              "    <tr>\n",
              "      <th>3</th>\n",
              "      <td>19961101-14:00</td>\n",
              "      <td>Smoke</td>\n",
              "      <td>10.0</td>\n",
              "      <td>0</td>\n",
              "      <td>0</td>\n",
              "      <td>41.0</td>\n",
              "      <td>1010.0</td>\n",
              "      <td>0</td>\n",
              "      <td>0</td>\n",
              "      <td>24.0</td>\n",
              "      <td>0</td>\n",
              "      <td>0</td>\n",
              "      <td>2.0</td>\n",
              "      <td>0.0</td>\n",
              "      <td>North</td>\n",
              "      <td>NaN</td>\n",
              "      <td>1996</td>\n",
              "      <td>11</td>\n",
              "    </tr>\n",
              "    <tr>\n",
              "      <th>4</th>\n",
              "      <td>19961101-16:00</td>\n",
              "      <td>Smoke</td>\n",
              "      <td>11.0</td>\n",
              "      <td>0</td>\n",
              "      <td>0</td>\n",
              "      <td>47.0</td>\n",
              "      <td>1011.0</td>\n",
              "      <td>0</td>\n",
              "      <td>0</td>\n",
              "      <td>23.0</td>\n",
              "      <td>0</td>\n",
              "      <td>0</td>\n",
              "      <td>1.2</td>\n",
              "      <td>0.0</td>\n",
              "      <td>North</td>\n",
              "      <td>0.0</td>\n",
              "      <td>1996</td>\n",
              "      <td>11</td>\n",
              "    </tr>\n",
              "  </tbody>\n",
              "</table>\n",
              "</div>"
            ],
            "text/plain": [
              "     datetime_utc _conds  _dewptm  _fog  ...  _wdire  _wspdm  year  month\n",
              "0  19961101-11:00  Smoke      9.0     0  ...    West     7.4  1996     11\n",
              "1  19961101-12:00  Smoke     10.0     0  ...   North     NaN  1996     11\n",
              "2  19961101-13:00  Smoke     11.0     0  ...   North     NaN  1996     11\n",
              "3  19961101-14:00  Smoke     10.0     0  ...   North     NaN  1996     11\n",
              "4  19961101-16:00  Smoke     11.0     0  ...   North     0.0  1996     11\n",
              "\n",
              "[5 rows x 18 columns]"
            ]
          },
          "metadata": {
            "tags": []
          },
          "execution_count": 42
        }
      ]
    },
    {
      "cell_type": "code",
      "metadata": {
        "id": "_dTSizzuBN15",
        "colab_type": "code",
        "outputId": "75d67eef-1fff-47e1-8598-f6588ed69742",
        "colab": {
          "base_uri": "https://localhost:8080/",
          "height": 125
        }
      },
      "source": [
        "# if you see pressure column, there are few -9999 values. Which is obviously bad values and it can affect your\n",
        "# calculations very badly. So we will consider this also missing values. Lets convert them first to the nan\n",
        "df_filtered._pressurem.replace(-9999.0, np.nan, inplace=True)\n"
      ],
      "execution_count": 0,
      "outputs": [
        {
          "output_type": "stream",
          "text": [
            "/usr/local/lib/python3.6/dist-packages/pandas/core/generic.py:6786: SettingWithCopyWarning: \n",
            "A value is trying to be set on a copy of a slice from a DataFrame\n",
            "\n",
            "See the caveats in the documentation: http://pandas.pydata.org/pandas-docs/stable/user_guide/indexing.html#returning-a-view-versus-a-copy\n",
            "  self._update_inplace(new_data)\n"
          ],
          "name": "stderr"
        }
      ]
    },
    {
      "cell_type": "code",
      "metadata": {
        "id": "_uWJlfdrBN2B",
        "colab_type": "code",
        "outputId": "08d27c40-c0c7-429e-e61b-9f852bef4884",
        "colab": {
          "base_uri": "https://localhost:8080/",
          "height": 299
        }
      },
      "source": [
        "df_filtered.head() # so now -9999.0 is Nan.Lets again get the number of missing values in _pressurem"
      ],
      "execution_count": 0,
      "outputs": [
        {
          "output_type": "execute_result",
          "data": {
            "text/html": [
              "<div>\n",
              "<style scoped>\n",
              "    .dataframe tbody tr th:only-of-type {\n",
              "        vertical-align: middle;\n",
              "    }\n",
              "\n",
              "    .dataframe tbody tr th {\n",
              "        vertical-align: top;\n",
              "    }\n",
              "\n",
              "    .dataframe thead th {\n",
              "        text-align: right;\n",
              "    }\n",
              "</style>\n",
              "<table border=\"1\" class=\"dataframe\">\n",
              "  <thead>\n",
              "    <tr style=\"text-align: right;\">\n",
              "      <th></th>\n",
              "      <th>datetime_utc</th>\n",
              "      <th>_conds</th>\n",
              "      <th>_dewptm</th>\n",
              "      <th>_fog</th>\n",
              "      <th>_hail</th>\n",
              "      <th>_hum</th>\n",
              "      <th>_pressurem</th>\n",
              "      <th>_rain</th>\n",
              "      <th>_snow</th>\n",
              "      <th>_tempm</th>\n",
              "      <th>_thunder</th>\n",
              "      <th>_tornado</th>\n",
              "      <th>_vism</th>\n",
              "      <th>_wdird</th>\n",
              "      <th>_wdire</th>\n",
              "      <th>_wspdm</th>\n",
              "      <th>year</th>\n",
              "      <th>month</th>\n",
              "    </tr>\n",
              "  </thead>\n",
              "  <tbody>\n",
              "    <tr>\n",
              "      <th>0</th>\n",
              "      <td>19961101-11:00</td>\n",
              "      <td>Smoke</td>\n",
              "      <td>9.0</td>\n",
              "      <td>0</td>\n",
              "      <td>0</td>\n",
              "      <td>27.0</td>\n",
              "      <td>1010.0</td>\n",
              "      <td>0</td>\n",
              "      <td>0</td>\n",
              "      <td>30.0</td>\n",
              "      <td>0</td>\n",
              "      <td>0</td>\n",
              "      <td>5.0</td>\n",
              "      <td>280.0</td>\n",
              "      <td>West</td>\n",
              "      <td>7.4</td>\n",
              "      <td>1996</td>\n",
              "      <td>11</td>\n",
              "    </tr>\n",
              "    <tr>\n",
              "      <th>1</th>\n",
              "      <td>19961101-12:00</td>\n",
              "      <td>Smoke</td>\n",
              "      <td>10.0</td>\n",
              "      <td>0</td>\n",
              "      <td>0</td>\n",
              "      <td>32.0</td>\n",
              "      <td>NaN</td>\n",
              "      <td>0</td>\n",
              "      <td>0</td>\n",
              "      <td>28.0</td>\n",
              "      <td>0</td>\n",
              "      <td>0</td>\n",
              "      <td>NaN</td>\n",
              "      <td>0.0</td>\n",
              "      <td>North</td>\n",
              "      <td>NaN</td>\n",
              "      <td>1996</td>\n",
              "      <td>11</td>\n",
              "    </tr>\n",
              "    <tr>\n",
              "      <th>2</th>\n",
              "      <td>19961101-13:00</td>\n",
              "      <td>Smoke</td>\n",
              "      <td>11.0</td>\n",
              "      <td>0</td>\n",
              "      <td>0</td>\n",
              "      <td>44.0</td>\n",
              "      <td>NaN</td>\n",
              "      <td>0</td>\n",
              "      <td>0</td>\n",
              "      <td>24.0</td>\n",
              "      <td>0</td>\n",
              "      <td>0</td>\n",
              "      <td>NaN</td>\n",
              "      <td>0.0</td>\n",
              "      <td>North</td>\n",
              "      <td>NaN</td>\n",
              "      <td>1996</td>\n",
              "      <td>11</td>\n",
              "    </tr>\n",
              "    <tr>\n",
              "      <th>3</th>\n",
              "      <td>19961101-14:00</td>\n",
              "      <td>Smoke</td>\n",
              "      <td>10.0</td>\n",
              "      <td>0</td>\n",
              "      <td>0</td>\n",
              "      <td>41.0</td>\n",
              "      <td>1010.0</td>\n",
              "      <td>0</td>\n",
              "      <td>0</td>\n",
              "      <td>24.0</td>\n",
              "      <td>0</td>\n",
              "      <td>0</td>\n",
              "      <td>2.0</td>\n",
              "      <td>0.0</td>\n",
              "      <td>North</td>\n",
              "      <td>NaN</td>\n",
              "      <td>1996</td>\n",
              "      <td>11</td>\n",
              "    </tr>\n",
              "    <tr>\n",
              "      <th>4</th>\n",
              "      <td>19961101-16:00</td>\n",
              "      <td>Smoke</td>\n",
              "      <td>11.0</td>\n",
              "      <td>0</td>\n",
              "      <td>0</td>\n",
              "      <td>47.0</td>\n",
              "      <td>1011.0</td>\n",
              "      <td>0</td>\n",
              "      <td>0</td>\n",
              "      <td>23.0</td>\n",
              "      <td>0</td>\n",
              "      <td>0</td>\n",
              "      <td>1.2</td>\n",
              "      <td>0.0</td>\n",
              "      <td>North</td>\n",
              "      <td>0.0</td>\n",
              "      <td>1996</td>\n",
              "      <td>11</td>\n",
              "    </tr>\n",
              "  </tbody>\n",
              "</table>\n",
              "</div>"
            ],
            "text/plain": [
              "     datetime_utc _conds  _dewptm  _fog  ...  _wdire  _wspdm  year  month\n",
              "0  19961101-11:00  Smoke      9.0     0  ...    West     7.4  1996     11\n",
              "1  19961101-12:00  Smoke     10.0     0  ...   North     NaN  1996     11\n",
              "2  19961101-13:00  Smoke     11.0     0  ...   North     NaN  1996     11\n",
              "3  19961101-14:00  Smoke     10.0     0  ...   North     NaN  1996     11\n",
              "4  19961101-16:00  Smoke     11.0     0  ...   North     0.0  1996     11\n",
              "\n",
              "[5 rows x 18 columns]"
            ]
          },
          "metadata": {
            "tags": []
          },
          "execution_count": 44
        }
      ]
    },
    {
      "cell_type": "code",
      "metadata": {
        "id": "XNLOpZcCBN2J",
        "colab_type": "code",
        "outputId": "8f5fbef4-768d-47e6-82c9-0358698c7ced",
        "colab": {
          "base_uri": "https://localhost:8080/",
          "height": 34
        }
      },
      "source": [
        "df_filtered._pressurem.isnull().sum() # So u can see previsously it was 232 and now its 983. \n",
        "# We need to check the data for this kin of errors.\n",
        "# So we will use the same idea as before We will replace missing values with the mean values of _hum column\n",
        "# for that partcular year."
      ],
      "execution_count": 0,
      "outputs": [
        {
          "output_type": "execute_result",
          "data": {
            "text/plain": [
              "983"
            ]
          },
          "metadata": {
            "tags": []
          },
          "execution_count": 45
        }
      ]
    },
    {
      "cell_type": "code",
      "metadata": {
        "id": "Kx-7fZcmBN2R",
        "colab_type": "code",
        "colab": {}
      },
      "source": [
        "\n",
        "for index,row in df_filtered[df_filtered._pressurem.isnull()].iterrows():\n",
        "    mean_val = df_filtered[df_filtered[\"year\"] == row[\"year\"]]._pressurem.mean()\n",
        "    df_filtered.at[index, \"_pressurem\"] = mean_val\n",
        "    "
      ],
      "execution_count": 0,
      "outputs": []
    },
    {
      "cell_type": "code",
      "metadata": {
        "id": "GuUGIfONBN2Y",
        "colab_type": "code",
        "outputId": "bf6aad80-f16d-4ff3-856f-404842e24f66",
        "colab": {
          "base_uri": "https://localhost:8080/",
          "height": 351
        }
      },
      "source": [
        "df_filtered.isnull().sum() # pressurem is also resolved. Lets apply same for other columns. I will make\n",
        "# it quickly. Process will be the same as above."
      ],
      "execution_count": 0,
      "outputs": [
        {
          "output_type": "execute_result",
          "data": {
            "text/plain": [
              "datetime_utc        0\n",
              "_conds             72\n",
              "_dewptm             0\n",
              "_fog                0\n",
              "_hail               0\n",
              "_hum                0\n",
              "_pressurem          0\n",
              "_rain               0\n",
              "_snow               0\n",
              "_tempm            673\n",
              "_thunder            0\n",
              "_tornado            0\n",
              "_vism            4428\n",
              "_wdird          14755\n",
              "_wdire          14755\n",
              "_wspdm           2358\n",
              "year                0\n",
              "month               0\n",
              "dtype: int64"
            ]
          },
          "metadata": {
            "tags": []
          },
          "execution_count": 47
        }
      ]
    },
    {
      "cell_type": "code",
      "metadata": {
        "id": "7Ti5grP4BN2f",
        "colab_type": "code",
        "colab": {}
      },
      "source": [
        "for index,row in df_filtered[df_filtered._tempm.isnull()].iterrows():\n",
        "    mean_val = df_filtered[df_filtered[\"year\"] == row[\"year\"]]._tempm.mean()\n",
        "    df_filtered.at[index, \"_tempm\"] = mean_val\n",
        "    "
      ],
      "execution_count": 0,
      "outputs": []
    },
    {
      "cell_type": "code",
      "metadata": {
        "id": "-KMu1De0BN2m",
        "colab_type": "code",
        "colab": {}
      },
      "source": [
        "for index,row in df_filtered[df_filtered._vism.isnull()].iterrows():\n",
        "    mean_val = df_filtered[df_filtered[\"year\"] == row[\"year\"]]._vism.mean()\n",
        "    df_filtered.at[index, \"_vism\"] = mean_val"
      ],
      "execution_count": 0,
      "outputs": []
    },
    {
      "cell_type": "code",
      "metadata": {
        "id": "O972ZkjzBN2q",
        "colab_type": "code",
        "colab": {}
      },
      "source": [
        "for index,row in df_filtered[df_filtered._wdird.isnull()].iterrows():\n",
        "    mean_val = df_filtered[df_filtered[\"year\"] == row[\"year\"]]._wdird.mean()\n",
        "    df_filtered.at[index, \"_wdird\"] = mean_val"
      ],
      "execution_count": 0,
      "outputs": []
    },
    {
      "cell_type": "code",
      "metadata": {
        "id": "6nDfH6I9BN2w",
        "colab_type": "code",
        "colab": {}
      },
      "source": [
        "for index,row in df_filtered[df_filtered._wspdm.isnull()].iterrows():\n",
        "    mean_val = df_filtered[df_filtered[\"year\"] == row[\"year\"]]._wspdm.mean()\n",
        "    df_filtered.at[index, \"_wspdm\"] = mean_val"
      ],
      "execution_count": 0,
      "outputs": []
    },
    {
      "cell_type": "code",
      "metadata": {
        "id": "QILh8LL7BN21",
        "colab_type": "code",
        "outputId": "db584d35-41ac-444a-c3f4-73f22d1a6ddc",
        "colab": {
          "base_uri": "https://localhost:8080/",
          "height": 351
        }
      },
      "source": [
        "df_filtered.isnull().sum()"
      ],
      "execution_count": 0,
      "outputs": [
        {
          "output_type": "execute_result",
          "data": {
            "text/plain": [
              "datetime_utc        0\n",
              "_conds             72\n",
              "_dewptm             0\n",
              "_fog                0\n",
              "_hail               0\n",
              "_hum                0\n",
              "_pressurem          0\n",
              "_rain               0\n",
              "_snow               0\n",
              "_tempm              0\n",
              "_thunder            0\n",
              "_tornado            0\n",
              "_vism               0\n",
              "_wdird              0\n",
              "_wdire          14755\n",
              "_wspdm              0\n",
              "year                0\n",
              "month               0\n",
              "dtype: int64"
            ]
          },
          "metadata": {
            "tags": []
          },
          "execution_count": 52
        }
      ]
    },
    {
      "cell_type": "code",
      "metadata": {
        "id": "ij-_dhiEBN28",
        "colab_type": "code",
        "colab": {}
      },
      "source": [
        "# As we can see _wdire is a categorical feature so we can not apply mean here. We have to get the most frequent\n",
        "# value of _wdire for a year and then replace missing value with the most frequent value.\n",
        "for index,row in df_filtered[df_filtered._wdire.isnull()].iterrows():\n",
        "    most_frequent = df_filtered[df_filtered[\"year\"] == row[\"year\"]]._wdire.value_counts().idxmax()\n",
        "    df_filtered.at[index, \"_wdire\"] = most_frequent"
      ],
      "execution_count": 0,
      "outputs": []
    },
    {
      "cell_type": "code",
      "metadata": {
        "id": "1lbFc-T1BN3C",
        "colab_type": "code",
        "outputId": "a4417a7c-5165-4f26-96ef-77c517e8286f",
        "colab": {
          "base_uri": "https://localhost:8080/",
          "height": 351
        }
      },
      "source": [
        "df_filtered.isnull().sum()"
      ],
      "execution_count": 0,
      "outputs": [
        {
          "output_type": "execute_result",
          "data": {
            "text/plain": [
              "datetime_utc     0\n",
              "_conds          72\n",
              "_dewptm          0\n",
              "_fog             0\n",
              "_hail            0\n",
              "_hum             0\n",
              "_pressurem       0\n",
              "_rain            0\n",
              "_snow            0\n",
              "_tempm           0\n",
              "_thunder         0\n",
              "_tornado         0\n",
              "_vism            0\n",
              "_wdird           0\n",
              "_wdire           0\n",
              "_wspdm           0\n",
              "year             0\n",
              "month            0\n",
              "dtype: int64"
            ]
          },
          "metadata": {
            "tags": []
          },
          "execution_count": 54
        }
      ]
    },
    {
      "cell_type": "code",
      "metadata": {
        "id": "2OFqj73ABN3H",
        "colab_type": "code",
        "colab": {}
      },
      "source": [
        "# now we can see,  _conds which is again acategorical feature.\n",
        "# so we will apply again the same strategy as above(_wdire)\n",
        "for index,row in df_filtered[df_filtered._conds.isnull()].iterrows():\n",
        "    most_frequent = df_filtered[df_filtered[\"year\"] == row[\"year\"]]._conds.value_counts().idxmax()\n",
        "    df_filtered.at[index, \"_conds\"] = most_frequent"
      ],
      "execution_count": 0,
      "outputs": []
    },
    {
      "cell_type": "code",
      "metadata": {
        "id": "3cghCqu3BN3j",
        "colab_type": "code",
        "outputId": "e1d2cd30-73ba-485a-fa8b-d90d28da655f",
        "colab": {
          "base_uri": "https://localhost:8080/",
          "height": 351
        }
      },
      "source": [
        "df_filtered.isnull().sum()\n"
      ],
      "execution_count": 0,
      "outputs": [
        {
          "output_type": "execute_result",
          "data": {
            "text/plain": [
              "datetime_utc    0\n",
              "_conds          0\n",
              "_dewptm         0\n",
              "_fog            0\n",
              "_hail           0\n",
              "_hum            0\n",
              "_pressurem      0\n",
              "_rain           0\n",
              "_snow           0\n",
              "_tempm          0\n",
              "_thunder        0\n",
              "_tornado        0\n",
              "_vism           0\n",
              "_wdird          0\n",
              "_wdire          0\n",
              "_wspdm          0\n",
              "year            0\n",
              "month           0\n",
              "dtype: int64"
            ]
          },
          "metadata": {
            "tags": []
          },
          "execution_count": 56
        }
      ]
    },
    {
      "cell_type": "code",
      "metadata": {
        "id": "naLQ2FEgBN3q",
        "colab_type": "code",
        "colab": {}
      },
      "source": [
        "## So finally ..... WE HAVE REPLACED ALL THE MISSING VALUES. Phew... Thats a whole big task.\n"
      ],
      "execution_count": 0,
      "outputs": []
    },
    {
      "cell_type": "code",
      "metadata": {
        "id": "zSy3o7dMBN3v",
        "colab_type": "code",
        "outputId": "3cf4152e-6d2a-44e0-8d6e-a26d309430ef",
        "colab": {
          "base_uri": "https://localhost:8080/",
          "height": 142
        }
      },
      "source": [
        "df_filtered.year = df_filtered.year.astype(\"object\")\n",
        "df_filtered.month = df_filtered.month.astype(\"object\")"
      ],
      "execution_count": 0,
      "outputs": [
        {
          "output_type": "stream",
          "text": [
            "/usr/local/lib/python3.6/dist-packages/pandas/core/generic.py:5208: SettingWithCopyWarning: \n",
            "A value is trying to be set on a copy of a slice from a DataFrame.\n",
            "Try using .loc[row_indexer,col_indexer] = value instead\n",
            "\n",
            "See the caveats in the documentation: http://pandas.pydata.org/pandas-docs/stable/user_guide/indexing.html#returning-a-view-versus-a-copy\n",
            "  self[name] = value\n"
          ],
          "name": "stderr"
        }
      ]
    },
    {
      "cell_type": "code",
      "metadata": {
        "id": "ltoMh7A6BN3_",
        "colab_type": "code",
        "outputId": "f70adddb-d1d6-438b-e34f-92687475ebd3",
        "colab": {
          "base_uri": "https://localhost:8080/",
          "height": 351
        }
      },
      "source": [
        "df_filtered.dtypes"
      ],
      "execution_count": 0,
      "outputs": [
        {
          "output_type": "execute_result",
          "data": {
            "text/plain": [
              "datetime_utc     object\n",
              "_conds           object\n",
              "_dewptm         float64\n",
              "_fog              int64\n",
              "_hail             int64\n",
              "_hum            float64\n",
              "_pressurem      float64\n",
              "_rain             int64\n",
              "_snow             int64\n",
              "_tempm          float64\n",
              "_thunder          int64\n",
              "_tornado          int64\n",
              "_vism           float64\n",
              "_wdird          float64\n",
              "_wdire           object\n",
              "_wspdm          float64\n",
              "year             object\n",
              "month            object\n",
              "dtype: object"
            ]
          },
          "metadata": {
            "tags": []
          },
          "execution_count": 58
        }
      ]
    },
    {
      "cell_type": "code",
      "metadata": {
        "id": "guJCFrqxBN4E",
        "colab_type": "code",
        "outputId": "7efdc828-6ae0-4ab9-cbed-328d0f431a5e",
        "colab": {
          "base_uri": "https://localhost:8080/",
          "height": 748
        }
      },
      "source": [
        "pd.crosstab(df_filtered.year, [df_filtered.month], values=df_filtered._tempm, aggfunc=\"mean\")"
      ],
      "execution_count": 0,
      "outputs": [
        {
          "output_type": "execute_result",
          "data": {
            "text/html": [
              "<div>\n",
              "<style scoped>\n",
              "    .dataframe tbody tr th:only-of-type {\n",
              "        vertical-align: middle;\n",
              "    }\n",
              "\n",
              "    .dataframe tbody tr th {\n",
              "        vertical-align: top;\n",
              "    }\n",
              "\n",
              "    .dataframe thead th {\n",
              "        text-align: right;\n",
              "    }\n",
              "</style>\n",
              "<table border=\"1\" class=\"dataframe\">\n",
              "  <thead>\n",
              "    <tr style=\"text-align: right;\">\n",
              "      <th>month</th>\n",
              "      <th>01</th>\n",
              "      <th>02</th>\n",
              "      <th>03</th>\n",
              "      <th>04</th>\n",
              "      <th>05</th>\n",
              "      <th>06</th>\n",
              "      <th>07</th>\n",
              "      <th>08</th>\n",
              "      <th>09</th>\n",
              "      <th>10</th>\n",
              "      <th>11</th>\n",
              "      <th>12</th>\n",
              "    </tr>\n",
              "    <tr>\n",
              "      <th>year</th>\n",
              "      <th></th>\n",
              "      <th></th>\n",
              "      <th></th>\n",
              "      <th></th>\n",
              "      <th></th>\n",
              "      <th></th>\n",
              "      <th></th>\n",
              "      <th></th>\n",
              "      <th></th>\n",
              "      <th></th>\n",
              "      <th></th>\n",
              "      <th></th>\n",
              "    </tr>\n",
              "  </thead>\n",
              "  <tbody>\n",
              "    <tr>\n",
              "      <th>1996</th>\n",
              "      <td>NaN</td>\n",
              "      <td>NaN</td>\n",
              "      <td>NaN</td>\n",
              "      <td>NaN</td>\n",
              "      <td>NaN</td>\n",
              "      <td>NaN</td>\n",
              "      <td>NaN</td>\n",
              "      <td>NaN</td>\n",
              "      <td>NaN</td>\n",
              "      <td>NaN</td>\n",
              "      <td>19.415046</td>\n",
              "      <td>13.865403</td>\n",
              "    </tr>\n",
              "    <tr>\n",
              "      <th>1997</th>\n",
              "      <td>13.048083</td>\n",
              "      <td>15.825284</td>\n",
              "      <td>21.173384</td>\n",
              "      <td>26.300805</td>\n",
              "      <td>29.900929</td>\n",
              "      <td>31.735553</td>\n",
              "      <td>31.076391</td>\n",
              "      <td>29.450078</td>\n",
              "      <td>29.695443</td>\n",
              "      <td>24.130558</td>\n",
              "      <td>19.957239</td>\n",
              "      <td>13.698195</td>\n",
              "    </tr>\n",
              "    <tr>\n",
              "      <th>1998</th>\n",
              "      <td>13.144290</td>\n",
              "      <td>16.510567</td>\n",
              "      <td>19.882767</td>\n",
              "      <td>28.698630</td>\n",
              "      <td>33.991784</td>\n",
              "      <td>32.450593</td>\n",
              "      <td>29.923938</td>\n",
              "      <td>29.179850</td>\n",
              "      <td>29.119385</td>\n",
              "      <td>25.276475</td>\n",
              "      <td>20.306736</td>\n",
              "      <td>14.682166</td>\n",
              "    </tr>\n",
              "    <tr>\n",
              "      <th>1999</th>\n",
              "      <td>12.594269</td>\n",
              "      <td>16.743446</td>\n",
              "      <td>22.465106</td>\n",
              "      <td>31.419503</td>\n",
              "      <td>34.269136</td>\n",
              "      <td>34.281680</td>\n",
              "      <td>31.998110</td>\n",
              "      <td>32.903209</td>\n",
              "      <td>30.738490</td>\n",
              "      <td>27.700867</td>\n",
              "      <td>22.663247</td>\n",
              "      <td>15.271864</td>\n",
              "    </tr>\n",
              "    <tr>\n",
              "      <th>2000</th>\n",
              "      <td>13.803659</td>\n",
              "      <td>15.104891</td>\n",
              "      <td>NaN</td>\n",
              "      <td>35.000000</td>\n",
              "      <td>26.000000</td>\n",
              "      <td>32.442863</td>\n",
              "      <td>30.245092</td>\n",
              "      <td>31.881618</td>\n",
              "      <td>30.125521</td>\n",
              "      <td>28.188217</td>\n",
              "      <td>22.112297</td>\n",
              "      <td>16.154194</td>\n",
              "    </tr>\n",
              "    <tr>\n",
              "      <th>2001</th>\n",
              "      <td>12.658686</td>\n",
              "      <td>18.287586</td>\n",
              "      <td>23.564530</td>\n",
              "      <td>29.666763</td>\n",
              "      <td>32.988538</td>\n",
              "      <td>30.981903</td>\n",
              "      <td>30.912933</td>\n",
              "      <td>31.112729</td>\n",
              "      <td>31.174088</td>\n",
              "      <td>27.831502</td>\n",
              "      <td>21.620347</td>\n",
              "      <td>15.959586</td>\n",
              "    </tr>\n",
              "    <tr>\n",
              "      <th>2002</th>\n",
              "      <td>14.277785</td>\n",
              "      <td>17.470228</td>\n",
              "      <td>24.534641</td>\n",
              "      <td>32.058416</td>\n",
              "      <td>35.373743</td>\n",
              "      <td>34.219867</td>\n",
              "      <td>35.355093</td>\n",
              "      <td>30.697186</td>\n",
              "      <td>28.428300</td>\n",
              "      <td>27.166094</td>\n",
              "      <td>21.377793</td>\n",
              "      <td>16.904873</td>\n",
              "    </tr>\n",
              "    <tr>\n",
              "      <th>2003</th>\n",
              "      <td>11.931473</td>\n",
              "      <td>17.958429</td>\n",
              "      <td>23.538990</td>\n",
              "      <td>31.716751</td>\n",
              "      <td>34.950594</td>\n",
              "      <td>35.455894</td>\n",
              "      <td>30.293639</td>\n",
              "      <td>29.966644</td>\n",
              "      <td>28.951836</td>\n",
              "      <td>26.453855</td>\n",
              "      <td>20.371110</td>\n",
              "      <td>15.211904</td>\n",
              "    </tr>\n",
              "    <tr>\n",
              "      <th>2004</th>\n",
              "      <td>13.232766</td>\n",
              "      <td>18.734445</td>\n",
              "      <td>26.633420</td>\n",
              "      <td>31.858427</td>\n",
              "      <td>34.314077</td>\n",
              "      <td>33.072721</td>\n",
              "      <td>32.657179</td>\n",
              "      <td>29.602128</td>\n",
              "      <td>29.948052</td>\n",
              "      <td>24.262331</td>\n",
              "      <td>19.474359</td>\n",
              "      <td>15.534730</td>\n",
              "    </tr>\n",
              "    <tr>\n",
              "      <th>2005</th>\n",
              "      <td>13.468473</td>\n",
              "      <td>16.835250</td>\n",
              "      <td>23.676773</td>\n",
              "      <td>28.602970</td>\n",
              "      <td>32.276423</td>\n",
              "      <td>33.983122</td>\n",
              "      <td>30.176230</td>\n",
              "      <td>31.415323</td>\n",
              "      <td>28.786611</td>\n",
              "      <td>25.068215</td>\n",
              "      <td>19.516949</td>\n",
              "      <td>13.674414</td>\n",
              "    </tr>\n",
              "    <tr>\n",
              "      <th>2006</th>\n",
              "      <td>13.987500</td>\n",
              "      <td>21.123698</td>\n",
              "      <td>22.526431</td>\n",
              "      <td>29.582979</td>\n",
              "      <td>33.137097</td>\n",
              "      <td>32.070598</td>\n",
              "      <td>30.977527</td>\n",
              "      <td>30.555575</td>\n",
              "      <td>29.118214</td>\n",
              "      <td>26.059218</td>\n",
              "      <td>20.211207</td>\n",
              "      <td>15.464956</td>\n",
              "    </tr>\n",
              "    <tr>\n",
              "      <th>2007</th>\n",
              "      <td>13.394309</td>\n",
              "      <td>17.619822</td>\n",
              "      <td>21.736067</td>\n",
              "      <td>30.457983</td>\n",
              "      <td>31.761019</td>\n",
              "      <td>32.875951</td>\n",
              "      <td>31.134146</td>\n",
              "      <td>30.601621</td>\n",
              "      <td>29.179916</td>\n",
              "      <td>24.446222</td>\n",
              "      <td>19.454784</td>\n",
              "      <td>14.552893</td>\n",
              "    </tr>\n",
              "    <tr>\n",
              "      <th>2008</th>\n",
              "      <td>12.937759</td>\n",
              "      <td>15.565611</td>\n",
              "      <td>25.061475</td>\n",
              "      <td>28.560000</td>\n",
              "      <td>30.258333</td>\n",
              "      <td>30.246862</td>\n",
              "      <td>30.721992</td>\n",
              "      <td>29.591837</td>\n",
              "      <td>28.508403</td>\n",
              "      <td>26.453441</td>\n",
              "      <td>19.598291</td>\n",
              "      <td>16.202692</td>\n",
              "    </tr>\n",
              "    <tr>\n",
              "      <th>2009</th>\n",
              "      <td>14.837522</td>\n",
              "      <td>18.292793</td>\n",
              "      <td>23.450820</td>\n",
              "      <td>29.570213</td>\n",
              "      <td>32.356552</td>\n",
              "      <td>34.567568</td>\n",
              "      <td>32.032922</td>\n",
              "      <td>30.914286</td>\n",
              "      <td>28.885200</td>\n",
              "      <td>25.073171</td>\n",
              "      <td>19.283898</td>\n",
              "      <td>14.995781</td>\n",
              "    </tr>\n",
              "    <tr>\n",
              "      <th>2010</th>\n",
              "      <td>12.861224</td>\n",
              "      <td>18.135008</td>\n",
              "      <td>25.935906</td>\n",
              "      <td>32.769231</td>\n",
              "      <td>34.521186</td>\n",
              "      <td>34.273531</td>\n",
              "      <td>31.038529</td>\n",
              "      <td>29.586543</td>\n",
              "      <td>27.670493</td>\n",
              "      <td>26.013333</td>\n",
              "      <td>20.392778</td>\n",
              "      <td>14.008584</td>\n",
              "    </tr>\n",
              "    <tr>\n",
              "      <th>2011</th>\n",
              "      <td>12.320175</td>\n",
              "      <td>17.025000</td>\n",
              "      <td>22.810185</td>\n",
              "      <td>27.770714</td>\n",
              "      <td>32.952586</td>\n",
              "      <td>32.012592</td>\n",
              "      <td>30.631579</td>\n",
              "      <td>29.899563</td>\n",
              "      <td>29.079812</td>\n",
              "      <td>25.607759</td>\n",
              "      <td>20.815166</td>\n",
              "      <td>14.486364</td>\n",
              "    </tr>\n",
              "    <tr>\n",
              "      <th>2012</th>\n",
              "      <td>12.776256</td>\n",
              "      <td>16.130000</td>\n",
              "      <td>22.683962</td>\n",
              "      <td>28.222222</td>\n",
              "      <td>33.425339</td>\n",
              "      <td>36.033252</td>\n",
              "      <td>31.873355</td>\n",
              "      <td>29.180123</td>\n",
              "      <td>29.207921</td>\n",
              "      <td>24.699588</td>\n",
              "      <td>18.783784</td>\n",
              "      <td>15.157609</td>\n",
              "    </tr>\n",
              "    <tr>\n",
              "      <th>2013</th>\n",
              "      <td>12.255078</td>\n",
              "      <td>16.918938</td>\n",
              "      <td>23.030457</td>\n",
              "      <td>29.000000</td>\n",
              "      <td>33.673015</td>\n",
              "      <td>32.347073</td>\n",
              "      <td>30.701923</td>\n",
              "      <td>29.462728</td>\n",
              "      <td>29.839573</td>\n",
              "      <td>26.035176</td>\n",
              "      <td>18.885122</td>\n",
              "      <td>15.288221</td>\n",
              "    </tr>\n",
              "    <tr>\n",
              "      <th>2014</th>\n",
              "      <td>13.550621</td>\n",
              "      <td>15.805140</td>\n",
              "      <td>21.594262</td>\n",
              "      <td>28.067227</td>\n",
              "      <td>31.412955</td>\n",
              "      <td>34.770833</td>\n",
              "      <td>32.233013</td>\n",
              "      <td>31.036970</td>\n",
              "      <td>29.709319</td>\n",
              "      <td>26.484627</td>\n",
              "      <td>20.104167</td>\n",
              "      <td>14.780488</td>\n",
              "    </tr>\n",
              "    <tr>\n",
              "      <th>2015</th>\n",
              "      <td>12.762669</td>\n",
              "      <td>18.794358</td>\n",
              "      <td>21.569120</td>\n",
              "      <td>27.989273</td>\n",
              "      <td>33.344130</td>\n",
              "      <td>32.737500</td>\n",
              "      <td>30.364947</td>\n",
              "      <td>30.235507</td>\n",
              "      <td>30.665254</td>\n",
              "      <td>26.796826</td>\n",
              "      <td>20.754167</td>\n",
              "      <td>14.975709</td>\n",
              "    </tr>\n",
              "    <tr>\n",
              "      <th>2016</th>\n",
              "      <td>15.007752</td>\n",
              "      <td>19.563948</td>\n",
              "      <td>25.696391</td>\n",
              "      <td>32.535145</td>\n",
              "      <td>34.691920</td>\n",
              "      <td>34.907087</td>\n",
              "      <td>30.882036</td>\n",
              "      <td>30.993334</td>\n",
              "      <td>31.500809</td>\n",
              "      <td>28.958941</td>\n",
              "      <td>23.045124</td>\n",
              "      <td>17.777697</td>\n",
              "    </tr>\n",
              "    <tr>\n",
              "      <th>2017</th>\n",
              "      <td>15.783680</td>\n",
              "      <td>18.414062</td>\n",
              "      <td>23.553459</td>\n",
              "      <td>30.775120</td>\n",
              "      <td>NaN</td>\n",
              "      <td>NaN</td>\n",
              "      <td>NaN</td>\n",
              "      <td>NaN</td>\n",
              "      <td>NaN</td>\n",
              "      <td>NaN</td>\n",
              "      <td>NaN</td>\n",
              "      <td>NaN</td>\n",
              "    </tr>\n",
              "  </tbody>\n",
              "</table>\n",
              "</div>"
            ],
            "text/plain": [
              "month         01         02         03  ...         10         11         12\n",
              "year                                    ...                                 \n",
              "1996         NaN        NaN        NaN  ...        NaN  19.415046  13.865403\n",
              "1997   13.048083  15.825284  21.173384  ...  24.130558  19.957239  13.698195\n",
              "1998   13.144290  16.510567  19.882767  ...  25.276475  20.306736  14.682166\n",
              "1999   12.594269  16.743446  22.465106  ...  27.700867  22.663247  15.271864\n",
              "2000   13.803659  15.104891        NaN  ...  28.188217  22.112297  16.154194\n",
              "2001   12.658686  18.287586  23.564530  ...  27.831502  21.620347  15.959586\n",
              "2002   14.277785  17.470228  24.534641  ...  27.166094  21.377793  16.904873\n",
              "2003   11.931473  17.958429  23.538990  ...  26.453855  20.371110  15.211904\n",
              "2004   13.232766  18.734445  26.633420  ...  24.262331  19.474359  15.534730\n",
              "2005   13.468473  16.835250  23.676773  ...  25.068215  19.516949  13.674414\n",
              "2006   13.987500  21.123698  22.526431  ...  26.059218  20.211207  15.464956\n",
              "2007   13.394309  17.619822  21.736067  ...  24.446222  19.454784  14.552893\n",
              "2008   12.937759  15.565611  25.061475  ...  26.453441  19.598291  16.202692\n",
              "2009   14.837522  18.292793  23.450820  ...  25.073171  19.283898  14.995781\n",
              "2010   12.861224  18.135008  25.935906  ...  26.013333  20.392778  14.008584\n",
              "2011   12.320175  17.025000  22.810185  ...  25.607759  20.815166  14.486364\n",
              "2012   12.776256  16.130000  22.683962  ...  24.699588  18.783784  15.157609\n",
              "2013   12.255078  16.918938  23.030457  ...  26.035176  18.885122  15.288221\n",
              "2014   13.550621  15.805140  21.594262  ...  26.484627  20.104167  14.780488\n",
              "2015   12.762669  18.794358  21.569120  ...  26.796826  20.754167  14.975709\n",
              "2016   15.007752  19.563948  25.696391  ...  28.958941  23.045124  17.777697\n",
              "2017   15.783680  18.414062  23.553459  ...        NaN        NaN        NaN\n",
              "\n",
              "[22 rows x 12 columns]"
            ]
          },
          "metadata": {
            "tags": []
          },
          "execution_count": 59
        }
      ]
    },
    {
      "cell_type": "code",
      "metadata": {
        "id": "nmEa5bZiBN4J",
        "colab_type": "code",
        "outputId": "6dabaa46-c7b5-4223-c98f-9cfa0d4d42ad",
        "colab": {
          "base_uri": "https://localhost:8080/",
          "height": 641
        }
      },
      "source": [
        "# Heatmap for year and average temprature across the month. More red more heat, more blue less heat\n",
        "plt.figure(figsize=(15, 10));\n",
        "sns.heatmap(pd.crosstab(df_filtered.year, [df_filtered.month], values=df_filtered._tempm, aggfunc=\"mean\"),\n",
        "            cmap=\"coolwarm\", annot=True, cbar=True);\n",
        "plt.title(\"Average Temprature 1996-2016\")\n",
        "plt.plot();"
      ],
      "execution_count": 0,
      "outputs": [
        {
          "output_type": "display_data",
          "data": {
            "image/png": "[encoded data removed]",
            "text/plain": [
              "<Figure size 1080x720 with 2 Axes>"
            ]
          },
          "metadata": {
            "tags": []
          }
        }
      ]
    },
    {
      "cell_type": "markdown",
      "metadata": {
        "id": "OXDi9xPqBN4O",
        "colab_type": "text"
      },
      "source": [
        "Now our dataset doesn;t have any missing values in it. Now we should observe one thing. That our _windre is\n",
        "a categorical column and it is also important to predict a whether but the thing is your model does not understand a text value. So we need to encode this categorical column so that we can change it to integer"
      ]
    },
    {
      "cell_type": "code",
      "metadata": {
        "id": "oWRrONdUBN4P",
        "colab_type": "code",
        "outputId": "253ea698-5fbc-4a66-9737-e01c90100d78",
        "colab": {
          "base_uri": "https://localhost:8080/",
          "height": 721
        }
      },
      "source": [
        "df_filtered._conds.value_counts()"
      ],
      "execution_count": 0,
      "outputs": [
        {
          "output_type": "execute_result",
          "data": {
            "text/plain": [
              "Haze                             47674\n",
              "Smoke                            20760\n",
              "Mist                              9375\n",
              "Clear                             3129\n",
              "Widespread Dust                   2856\n",
              "Fog                               2760\n",
              "Scattered Clouds                  2209\n",
              "Partly Cloudy                     2091\n",
              "Shallow Fog                       1860\n",
              "Mostly Cloudy                     1537\n",
              "Light Rain                        1302\n",
              "Partial Fog                       1031\n",
              "Patches of Fog                     901\n",
              "Thunderstorms and Rain             486\n",
              "Heavy Fog                          421\n",
              "Light Drizzle                      414\n",
              "Rain                               394\n",
              "Unknown                            383\n",
              "Blowing Sand                       378\n",
              "Overcast                           326\n",
              "Thunderstorm                       192\n",
              "Light Thunderstorms and Rain       176\n",
              "Drizzle                            112\n",
              "Light Thunderstorm                  64\n",
              "Light Fog                           64\n",
              "Heavy Rain                          28\n",
              "Heavy Thunderstorms and Rain        22\n",
              "Thunderstorms with Hail             11\n",
              "Squalls                              6\n",
              "Light Sandstorm                      6\n",
              "Light Rain Showers                   5\n",
              "Light Haze                           4\n",
              "Volcanic Ash                         4\n",
              "Rain Showers                         2\n",
              "Sandstorm                            2\n",
              "Funnel Cloud                         2\n",
              "Heavy Thunderstorms with Hail        1\n",
              "Light Freezing Rain                  1\n",
              "Light Hail Showers                   1\n",
              "Name: _conds, dtype: int64"
            ]
          },
          "metadata": {
            "tags": []
          },
          "execution_count": 61
        }
      ]
    },
    {
      "cell_type": "markdown",
      "metadata": {
        "id": "oxs53QgcBN4U",
        "colab_type": "text"
      },
      "source": [
        "# Feature & Target Matrix"
      ]
    },
    {
      "cell_type": "code",
      "metadata": {
        "id": "GYEKoIniBN4W",
        "colab_type": "code",
        "colab": {}
      },
      "source": [
        "from sklearn.preprocessing import LabelEncoder, OneHotEncoder"
      ],
      "execution_count": 0,
      "outputs": []
    },
    {
      "cell_type": "code",
      "metadata": {
        "id": "VtaMQHb3BN4b",
        "colab_type": "code",
        "outputId": "096aac45-409a-49f7-fea8-661352ecc5a2",
        "colab": {
          "base_uri": "https://localhost:8080/",
          "height": 87
        }
      },
      "source": [
        "df_filtered.columns"
      ],
      "execution_count": 0,
      "outputs": [
        {
          "output_type": "execute_result",
          "data": {
            "text/plain": [
              "Index(['datetime_utc', '_conds', '_dewptm', '_fog', '_hail', '_hum',\n",
              "       '_pressurem', '_rain', '_snow', '_tempm', '_thunder', '_tornado',\n",
              "       '_vism', '_wdird', '_wdire', '_wspdm', 'year', 'month'],\n",
              "      dtype='object')"
            ]
          },
          "metadata": {
            "tags": []
          },
          "execution_count": 63
        }
      ]
    },
    {
      "cell_type": "code",
      "metadata": {
        "id": "x8chawHIBN4h",
        "colab_type": "code",
        "colab": {}
      },
      "source": [
        "feature_columns = ['_wdire', '_dewptm', '_fog', '_hail', '_hum',\n",
        "       '_pressurem', '_rain', '_snow', '_tempm', '_thunder', '_tornado',\n",
        "       '_vism', '_wdird', '_wspdm', 'year', 'month', '_conds']"
      ],
      "execution_count": 0,
      "outputs": []
    },
    {
      "cell_type": "code",
      "metadata": {
        "id": "dZ3dEVORBN4l",
        "colab_type": "code",
        "colab": {}
      },
      "source": [
        "# Lets create a new dataset, so that we dont change in our filtered dataset\n",
        "# We will create dataset in such a way, _wdire(categorical feature in starting position & target variable\n",
        "# at last which is _conds\n",
        "df_final = df_filtered[feature_columns]"
      ],
      "execution_count": 0,
      "outputs": []
    },
    {
      "cell_type": "code",
      "metadata": {
        "id": "9sh28vpDBN4r",
        "colab_type": "code",
        "outputId": "22c249fb-7911-412b-80b8-7cd09c39fe62",
        "colab": {
          "base_uri": "https://localhost:8080/",
          "height": 215
        }
      },
      "source": [
        "df_final.head()"
      ],
      "execution_count": 0,
      "outputs": [
        {
          "output_type": "execute_result",
          "data": {
            "text/html": [
              "<div>\n",
              "<style scoped>\n",
              "    .dataframe tbody tr th:only-of-type {\n",
              "        vertical-align: middle;\n",
              "    }\n",
              "\n",
              "    .dataframe tbody tr th {\n",
              "        vertical-align: top;\n",
              "    }\n",
              "\n",
              "    .dataframe thead th {\n",
              "        text-align: right;\n",
              "    }\n",
              "</style>\n",
              "<table border=\"1\" class=\"dataframe\">\n",
              "  <thead>\n",
              "    <tr style=\"text-align: right;\">\n",
              "      <th></th>\n",
              "      <th>_wdire</th>\n",
              "      <th>_dewptm</th>\n",
              "      <th>_fog</th>\n",
              "      <th>_hail</th>\n",
              "      <th>_hum</th>\n",
              "      <th>_pressurem</th>\n",
              "      <th>_rain</th>\n",
              "      <th>_snow</th>\n",
              "      <th>_tempm</th>\n",
              "      <th>_thunder</th>\n",
              "      <th>_tornado</th>\n",
              "      <th>_vism</th>\n",
              "      <th>_wdird</th>\n",
              "      <th>_wspdm</th>\n",
              "      <th>year</th>\n",
              "      <th>month</th>\n",
              "      <th>_conds</th>\n",
              "    </tr>\n",
              "  </thead>\n",
              "  <tbody>\n",
              "    <tr>\n",
              "      <th>0</th>\n",
              "      <td>West</td>\n",
              "      <td>9.0</td>\n",
              "      <td>0</td>\n",
              "      <td>0</td>\n",
              "      <td>27.0</td>\n",
              "      <td>1010.000000</td>\n",
              "      <td>0</td>\n",
              "      <td>0</td>\n",
              "      <td>30.0</td>\n",
              "      <td>0</td>\n",
              "      <td>0</td>\n",
              "      <td>5.000000</td>\n",
              "      <td>280.0</td>\n",
              "      <td>7.400000</td>\n",
              "      <td>1996</td>\n",
              "      <td>11</td>\n",
              "      <td>Smoke</td>\n",
              "    </tr>\n",
              "    <tr>\n",
              "      <th>1</th>\n",
              "      <td>North</td>\n",
              "      <td>10.0</td>\n",
              "      <td>0</td>\n",
              "      <td>0</td>\n",
              "      <td>32.0</td>\n",
              "      <td>1015.429612</td>\n",
              "      <td>0</td>\n",
              "      <td>0</td>\n",
              "      <td>28.0</td>\n",
              "      <td>0</td>\n",
              "      <td>0</td>\n",
              "      <td>2.198981</td>\n",
              "      <td>0.0</td>\n",
              "      <td>5.052735</td>\n",
              "      <td>1996</td>\n",
              "      <td>11</td>\n",
              "      <td>Smoke</td>\n",
              "    </tr>\n",
              "    <tr>\n",
              "      <th>2</th>\n",
              "      <td>North</td>\n",
              "      <td>11.0</td>\n",
              "      <td>0</td>\n",
              "      <td>0</td>\n",
              "      <td>44.0</td>\n",
              "      <td>1015.429612</td>\n",
              "      <td>0</td>\n",
              "      <td>0</td>\n",
              "      <td>24.0</td>\n",
              "      <td>0</td>\n",
              "      <td>0</td>\n",
              "      <td>2.198981</td>\n",
              "      <td>0.0</td>\n",
              "      <td>5.052735</td>\n",
              "      <td>1996</td>\n",
              "      <td>11</td>\n",
              "      <td>Smoke</td>\n",
              "    </tr>\n",
              "    <tr>\n",
              "      <th>3</th>\n",
              "      <td>North</td>\n",
              "      <td>10.0</td>\n",
              "      <td>0</td>\n",
              "      <td>0</td>\n",
              "      <td>41.0</td>\n",
              "      <td>1010.000000</td>\n",
              "      <td>0</td>\n",
              "      <td>0</td>\n",
              "      <td>24.0</td>\n",
              "      <td>0</td>\n",
              "      <td>0</td>\n",
              "      <td>2.000000</td>\n",
              "      <td>0.0</td>\n",
              "      <td>5.052735</td>\n",
              "      <td>1996</td>\n",
              "      <td>11</td>\n",
              "      <td>Smoke</td>\n",
              "    </tr>\n",
              "    <tr>\n",
              "      <th>4</th>\n",
              "      <td>North</td>\n",
              "      <td>11.0</td>\n",
              "      <td>0</td>\n",
              "      <td>0</td>\n",
              "      <td>47.0</td>\n",
              "      <td>1011.000000</td>\n",
              "      <td>0</td>\n",
              "      <td>0</td>\n",
              "      <td>23.0</td>\n",
              "      <td>0</td>\n",
              "      <td>0</td>\n",
              "      <td>1.200000</td>\n",
              "      <td>0.0</td>\n",
              "      <td>0.000000</td>\n",
              "      <td>1996</td>\n",
              "      <td>11</td>\n",
              "      <td>Smoke</td>\n",
              "    </tr>\n",
              "  </tbody>\n",
              "</table>\n",
              "</div>"
            ],
            "text/plain": [
              "  _wdire  _dewptm  _fog  _hail  _hum  ...  _wdird    _wspdm  year  month  _conds\n",
              "0   West      9.0     0      0  27.0  ...   280.0  7.400000  1996     11   Smoke\n",
              "1  North     10.0     0      0  32.0  ...     0.0  5.052735  1996     11   Smoke\n",
              "2  North     11.0     0      0  44.0  ...     0.0  5.052735  1996     11   Smoke\n",
              "3  North     10.0     0      0  41.0  ...     0.0  5.052735  1996     11   Smoke\n",
              "4  North     11.0     0      0  47.0  ...     0.0  0.000000  1996     11   Smoke\n",
              "\n",
              "[5 rows x 17 columns]"
            ]
          },
          "metadata": {
            "tags": []
          },
          "execution_count": 66
        }
      ]
    },
    {
      "cell_type": "code",
      "metadata": {
        "id": "XEDtpjeQBN4x",
        "colab_type": "code",
        "outputId": "c746da98-b8a9-4369-e087-2b8e7aab887d",
        "colab": {
          "base_uri": "https://localhost:8080/",
          "height": 334
        }
      },
      "source": [
        "df_final.dtypes"
      ],
      "execution_count": 0,
      "outputs": [
        {
          "output_type": "execute_result",
          "data": {
            "text/plain": [
              "_wdire         object\n",
              "_dewptm       float64\n",
              "_fog            int64\n",
              "_hail           int64\n",
              "_hum          float64\n",
              "_pressurem    float64\n",
              "_rain           int64\n",
              "_snow           int64\n",
              "_tempm        float64\n",
              "_thunder        int64\n",
              "_tornado        int64\n",
              "_vism         float64\n",
              "_wdird        float64\n",
              "_wspdm        float64\n",
              "year           object\n",
              "month          object\n",
              "_conds         object\n",
              "dtype: object"
            ]
          },
          "metadata": {
            "tags": []
          },
          "execution_count": 67
        }
      ]
    },
    {
      "cell_type": "code",
      "metadata": {
        "id": "hyZsfH95BN45",
        "colab_type": "code",
        "outputId": "63b99904-fc77-4eed-f7cd-476f206b1d24",
        "colab": {
          "base_uri": "https://localhost:8080/",
          "height": 334
        }
      },
      "source": [
        "df_final._wdire.value_counts()"
      ],
      "execution_count": 0,
      "outputs": [
        {
          "output_type": "execute_result",
          "data": {
            "text/plain": [
              "West        19970\n",
              "North       19714\n",
              "NW          13110\n",
              "WNW          7464\n",
              "East         7233\n",
              "WSW          5466\n",
              "ESE          5336\n",
              "ENE          3721\n",
              "SE           3513\n",
              "SW           3200\n",
              "NNW          2696\n",
              "NE           2500\n",
              "SSE          2052\n",
              "NNE          1752\n",
              "SSW          1715\n",
              "South        1543\n",
              "Variable        5\n",
              "Name: _wdire, dtype: int64"
            ]
          },
          "metadata": {
            "tags": []
          },
          "execution_count": 68
        }
      ]
    },
    {
      "cell_type": "code",
      "metadata": {
        "id": "goYei3VUBN49",
        "colab_type": "code",
        "colab": {}
      },
      "source": [
        "wdire_dummies = pd.get_dummies(df_final[\"_wdire\"])"
      ],
      "execution_count": 0,
      "outputs": []
    },
    {
      "cell_type": "code",
      "metadata": {
        "id": "NV4WgFIIBN5A",
        "colab_type": "code",
        "colab": {}
      },
      "source": [
        "df_final = pd.concat([wdire_dummies, df_final], axis=1)"
      ],
      "execution_count": 0,
      "outputs": []
    },
    {
      "cell_type": "code",
      "metadata": {
        "id": "Z2Gpp8xZBN5J",
        "colab_type": "code",
        "outputId": "f155dbb9-d04a-4dd3-a19d-dd8c63e54b92",
        "colab": {
          "base_uri": "https://localhost:8080/",
          "height": 215
        }
      },
      "source": [
        "df_final.head()"
      ],
      "execution_count": 0,
      "outputs": [
        {
          "output_type": "execute_result",
          "data": {
            "text/html": [
              "<div>\n",
              "<style scoped>\n",
              "    .dataframe tbody tr th:only-of-type {\n",
              "        vertical-align: middle;\n",
              "    }\n",
              "\n",
              "    .dataframe tbody tr th {\n",
              "        vertical-align: top;\n",
              "    }\n",
              "\n",
              "    .dataframe thead th {\n",
              "        text-align: right;\n",
              "    }\n",
              "</style>\n",
              "<table border=\"1\" class=\"dataframe\">\n",
              "  <thead>\n",
              "    <tr style=\"text-align: right;\">\n",
              "      <th></th>\n",
              "      <th>ENE</th>\n",
              "      <th>ESE</th>\n",
              "      <th>East</th>\n",
              "      <th>NE</th>\n",
              "      <th>NNE</th>\n",
              "      <th>NNW</th>\n",
              "      <th>NW</th>\n",
              "      <th>North</th>\n",
              "      <th>SE</th>\n",
              "      <th>SSE</th>\n",
              "      <th>SSW</th>\n",
              "      <th>SW</th>\n",
              "      <th>South</th>\n",
              "      <th>Variable</th>\n",
              "      <th>WNW</th>\n",
              "      <th>WSW</th>\n",
              "      <th>West</th>\n",
              "      <th>_wdire</th>\n",
              "      <th>_dewptm</th>\n",
              "      <th>_fog</th>\n",
              "      <th>_hail</th>\n",
              "      <th>_hum</th>\n",
              "      <th>_pressurem</th>\n",
              "      <th>_rain</th>\n",
              "      <th>_snow</th>\n",
              "      <th>_tempm</th>\n",
              "      <th>_thunder</th>\n",
              "      <th>_tornado</th>\n",
              "      <th>_vism</th>\n",
              "      <th>_wdird</th>\n",
              "      <th>_wspdm</th>\n",
              "      <th>year</th>\n",
              "      <th>month</th>\n",
              "      <th>_conds</th>\n",
              "    </tr>\n",
              "  </thead>\n",
              "  <tbody>\n",
              "    <tr>\n",
              "      <th>0</th>\n",
              "      <td>0</td>\n",
              "      <td>0</td>\n",
              "      <td>0</td>\n",
              "      <td>0</td>\n",
              "      <td>0</td>\n",
              "      <td>0</td>\n",
              "      <td>0</td>\n",
              "      <td>0</td>\n",
              "      <td>0</td>\n",
              "      <td>0</td>\n",
              "      <td>0</td>\n",
              "      <td>0</td>\n",
              "      <td>0</td>\n",
              "      <td>0</td>\n",
              "      <td>0</td>\n",
              "      <td>0</td>\n",
              "      <td>1</td>\n",
              "      <td>West</td>\n",
              "      <td>9.0</td>\n",
              "      <td>0</td>\n",
              "      <td>0</td>\n",
              "      <td>27.0</td>\n",
              "      <td>1010.000000</td>\n",
              "      <td>0</td>\n",
              "      <td>0</td>\n",
              "      <td>30.0</td>\n",
              "      <td>0</td>\n",
              "      <td>0</td>\n",
              "      <td>5.000000</td>\n",
              "      <td>280.0</td>\n",
              "      <td>7.400000</td>\n",
              "      <td>1996</td>\n",
              "      <td>11</td>\n",
              "      <td>Smoke</td>\n",
              "    </tr>\n",
              "    <tr>\n",
              "      <th>1</th>\n",
              "      <td>0</td>\n",
              "      <td>0</td>\n",
              "      <td>0</td>\n",
              "      <td>0</td>\n",
              "      <td>0</td>\n",
              "      <td>0</td>\n",
              "      <td>0</td>\n",
              "      <td>1</td>\n",
              "      <td>0</td>\n",
              "      <td>0</td>\n",
              "      <td>0</td>\n",
              "      <td>0</td>\n",
              "      <td>0</td>\n",
              "      <td>0</td>\n",
              "      <td>0</td>\n",
              "      <td>0</td>\n",
              "      <td>0</td>\n",
              "      <td>North</td>\n",
              "      <td>10.0</td>\n",
              "      <td>0</td>\n",
              "      <td>0</td>\n",
              "      <td>32.0</td>\n",
              "      <td>1015.429612</td>\n",
              "      <td>0</td>\n",
              "      <td>0</td>\n",
              "      <td>28.0</td>\n",
              "      <td>0</td>\n",
              "      <td>0</td>\n",
              "      <td>2.198981</td>\n",
              "      <td>0.0</td>\n",
              "      <td>5.052735</td>\n",
              "      <td>1996</td>\n",
              "      <td>11</td>\n",
              "      <td>Smoke</td>\n",
              "    </tr>\n",
              "    <tr>\n",
              "      <th>2</th>\n",
              "      <td>0</td>\n",
              "      <td>0</td>\n",
              "      <td>0</td>\n",
              "      <td>0</td>\n",
              "      <td>0</td>\n",
              "      <td>0</td>\n",
              "      <td>0</td>\n",
              "      <td>1</td>\n",
              "      <td>0</td>\n",
              "      <td>0</td>\n",
              "      <td>0</td>\n",
              "      <td>0</td>\n",
              "      <td>0</td>\n",
              "      <td>0</td>\n",
              "      <td>0</td>\n",
              "      <td>0</td>\n",
              "      <td>0</td>\n",
              "      <td>North</td>\n",
              "      <td>11.0</td>\n",
              "      <td>0</td>\n",
              "      <td>0</td>\n",
              "      <td>44.0</td>\n",
              "      <td>1015.429612</td>\n",
              "      <td>0</td>\n",
              "      <td>0</td>\n",
              "      <td>24.0</td>\n",
              "      <td>0</td>\n",
              "      <td>0</td>\n",
              "      <td>2.198981</td>\n",
              "      <td>0.0</td>\n",
              "      <td>5.052735</td>\n",
              "      <td>1996</td>\n",
              "      <td>11</td>\n",
              "      <td>Smoke</td>\n",
              "    </tr>\n",
              "    <tr>\n",
              "      <th>3</th>\n",
              "      <td>0</td>\n",
              "      <td>0</td>\n",
              "      <td>0</td>\n",
              "      <td>0</td>\n",
              "      <td>0</td>\n",
              "      <td>0</td>\n",
              "      <td>0</td>\n",
              "      <td>1</td>\n",
              "      <td>0</td>\n",
              "      <td>0</td>\n",
              "      <td>0</td>\n",
              "      <td>0</td>\n",
              "      <td>0</td>\n",
              "      <td>0</td>\n",
              "      <td>0</td>\n",
              "      <td>0</td>\n",
              "      <td>0</td>\n",
              "      <td>North</td>\n",
              "      <td>10.0</td>\n",
              "      <td>0</td>\n",
              "      <td>0</td>\n",
              "      <td>41.0</td>\n",
              "      <td>1010.000000</td>\n",
              "      <td>0</td>\n",
              "      <td>0</td>\n",
              "      <td>24.0</td>\n",
              "      <td>0</td>\n",
              "      <td>0</td>\n",
              "      <td>2.000000</td>\n",
              "      <td>0.0</td>\n",
              "      <td>5.052735</td>\n",
              "      <td>1996</td>\n",
              "      <td>11</td>\n",
              "      <td>Smoke</td>\n",
              "    </tr>\n",
              "    <tr>\n",
              "      <th>4</th>\n",
              "      <td>0</td>\n",
              "      <td>0</td>\n",
              "      <td>0</td>\n",
              "      <td>0</td>\n",
              "      <td>0</td>\n",
              "      <td>0</td>\n",
              "      <td>0</td>\n",
              "      <td>1</td>\n",
              "      <td>0</td>\n",
              "      <td>0</td>\n",
              "      <td>0</td>\n",
              "      <td>0</td>\n",
              "      <td>0</td>\n",
              "      <td>0</td>\n",
              "      <td>0</td>\n",
              "      <td>0</td>\n",
              "      <td>0</td>\n",
              "      <td>North</td>\n",
              "      <td>11.0</td>\n",
              "      <td>0</td>\n",
              "      <td>0</td>\n",
              "      <td>47.0</td>\n",
              "      <td>1011.000000</td>\n",
              "      <td>0</td>\n",
              "      <td>0</td>\n",
              "      <td>23.0</td>\n",
              "      <td>0</td>\n",
              "      <td>0</td>\n",
              "      <td>1.200000</td>\n",
              "      <td>0.0</td>\n",
              "      <td>0.000000</td>\n",
              "      <td>1996</td>\n",
              "      <td>11</td>\n",
              "      <td>Smoke</td>\n",
              "    </tr>\n",
              "  </tbody>\n",
              "</table>\n",
              "</div>"
            ],
            "text/plain": [
              "   ENE  ESE  East  NE  NNE  NNW  ...     _vism  _wdird    _wspdm  year  month  _conds\n",
              "0    0    0     0   0    0    0  ...  5.000000   280.0  7.400000  1996     11   Smoke\n",
              "1    0    0     0   0    0    0  ...  2.198981     0.0  5.052735  1996     11   Smoke\n",
              "2    0    0     0   0    0    0  ...  2.198981     0.0  5.052735  1996     11   Smoke\n",
              "3    0    0     0   0    0    0  ...  2.000000     0.0  5.052735  1996     11   Smoke\n",
              "4    0    0     0   0    0    0  ...  1.200000     0.0  0.000000  1996     11   Smoke\n",
              "\n",
              "[5 rows x 34 columns]"
            ]
          },
          "metadata": {
            "tags": []
          },
          "execution_count": 71
        }
      ]
    },
    {
      "cell_type": "code",
      "metadata": {
        "id": "0AAhqSrRBN5N",
        "colab_type": "code",
        "outputId": "75ba9587-7369-4e8e-c9af-dedd74357b6b",
        "colab": {
          "base_uri": "https://localhost:8080/",
          "height": 122
        }
      },
      "source": [
        "df_final.columns"
      ],
      "execution_count": 0,
      "outputs": [
        {
          "output_type": "execute_result",
          "data": {
            "text/plain": [
              "Index(['ENE', 'ESE', 'East', 'NE', 'NNE', 'NNW', 'NW', 'North', 'SE', 'SSE',\n",
              "       'SSW', 'SW', 'South', 'Variable', 'WNW', 'WSW', 'West', '_wdire',\n",
              "       '_dewptm', '_fog', '_hail', '_hum', '_pressurem', '_rain', '_snow',\n",
              "       '_tempm', '_thunder', '_tornado', '_vism', '_wdird', '_wspdm', 'year',\n",
              "       'month', '_conds'],\n",
              "      dtype='object')"
            ]
          },
          "metadata": {
            "tags": []
          },
          "execution_count": 72
        }
      ]
    },
    {
      "cell_type": "code",
      "metadata": {
        "id": "igXshwOKBN5R",
        "colab_type": "code",
        "colab": {}
      },
      "source": [
        "df_final.drop(\"_wdire\", inplace=True, axis=1)"
      ],
      "execution_count": 0,
      "outputs": []
    },
    {
      "cell_type": "code",
      "metadata": {
        "id": "ekN_kYJOBN5W",
        "colab_type": "code",
        "outputId": "93b30ca3-8910-4dd2-cce9-2d05da21830f",
        "colab": {
          "base_uri": "https://localhost:8080/",
          "height": 122
        }
      },
      "source": [
        "df_final.columns"
      ],
      "execution_count": 0,
      "outputs": [
        {
          "output_type": "execute_result",
          "data": {
            "text/plain": [
              "Index(['ENE', 'ESE', 'East', 'NE', 'NNE', 'NNW', 'NW', 'North', 'SE', 'SSE',\n",
              "       'SSW', 'SW', 'South', 'Variable', 'WNW', 'WSW', 'West', '_dewptm',\n",
              "       '_fog', '_hail', '_hum', '_pressurem', '_rain', '_snow', '_tempm',\n",
              "       '_thunder', '_tornado', '_vism', '_wdird', '_wspdm', 'year', 'month',\n",
              "       '_conds'],\n",
              "      dtype='object')"
            ]
          },
          "metadata": {
            "tags": []
          },
          "execution_count": 74
        }
      ]
    },
    {
      "cell_type": "code",
      "metadata": {
        "id": "4mnBcJYs_i_k",
        "colab_type": "code",
        "colab": {}
      },
      "source": [
        "dropRainTemp=df_final.drop('_rain',1)\n",
        "dropRainAndCondTemp=dropRainTemp.drop('_conds',1)\n",
        "condsTemp=df_final['_conds']\n",
        "label_encoder=LabelEncoder()\n",
        "transformedConds=label_encoder.fit_transform(condsTemp)\n",
        "transformedCondsDf=pd.DataFrame(transformedConds)\n",
        "X_new=dropRainAndCondTemp.join(transformedCondsDf)"
      ],
      "execution_count": 0,
      "outputs": []
    },
    {
      "cell_type": "code",
      "metadata": {
        "id": "bT6W2KqcDkGW",
        "colab_type": "code",
        "outputId": "9dcefb11-3252-493a-ffa8-ce75c4e59f65",
        "colab": {
          "base_uri": "https://localhost:8080/",
          "height": 263
        }
      },
      "source": [
        "print(X_new)"
      ],
      "execution_count": 0,
      "outputs": [
        {
          "output_type": "stream",
          "text": [
            "        ENE  ESE  East  NE  NNE  ...  _wdird     _wspdm  year  month   0\n",
            "0         0    0     0   0    0  ...   280.0   7.400000  1996     11  31\n",
            "1         0    0     0   0    0  ...     0.0   5.052735  1996     11  31\n",
            "2         0    0     0   0    0  ...     0.0   5.052735  1996     11  31\n",
            "3         0    0     0   0    0  ...     0.0   5.052735  1996     11  31\n",
            "4         0    0     0   0    0  ...     0.0   0.000000  1996     11  31\n",
            "...     ...  ...   ...  ..  ...  ...     ...        ...   ...    ...  ..\n",
            "100985    0    0     0   0    0  ...   320.0  11.100000  2017     04   5\n",
            "100986    0    0     0   0    0  ...   320.0  22.200000  2017     04   5\n",
            "100987    0    0     0   0    0  ...   270.0  18.500000  2017     04   5\n",
            "100988    0    0     0   0    0  ...   320.0   3.700000  2017     04   5\n",
            "100989    0    0     0   0    0  ...   320.0   3.700000  2017     04   5\n",
            "\n",
            "[100990 rows x 32 columns]\n"
          ],
          "name": "stdout"
        }
      ]
    },
    {
      "cell_type": "code",
      "metadata": {
        "id": "NKLLz_P6BN5a",
        "colab_type": "code",
        "outputId": "e01b42dc-6fbe-44a4-a43d-fc939d30c2a3",
        "colab": {
          "base_uri": "https://localhost:8080/",
          "height": 34
        }
      },
      "source": [
        "X = df_final.iloc[:, 0:-1].values\n",
        "X.shape"
      ],
      "execution_count": 0,
      "outputs": [
        {
          "output_type": "execute_result",
          "data": {
            "text/plain": [
              "(100990, 32)"
            ]
          },
          "metadata": {
            "tags": []
          },
          "execution_count": 76
        }
      ]
    },
    {
      "cell_type": "code",
      "metadata": {
        "id": "Ofe-ieR1DgC2",
        "colab_type": "code",
        "outputId": "c2d3fef6-de94-4f9e-b5db-a648ddc9797e",
        "colab": {
          "base_uri": "https://localhost:8080/",
          "height": 140
        }
      },
      "source": [
        "print(X)"
      ],
      "execution_count": 0,
      "outputs": [
        {
          "output_type": "stream",
          "text": [
            "[[0 0 0 ... 7.4 '1996' '11']\n",
            " [0 0 0 ... 5.0527354260089785 '1996' '11']\n",
            " [0 0 0 ... 5.0527354260089785 '1996' '11']\n",
            " ...\n",
            " [0 0 0 ... 18.5 '2017' '04']\n",
            " [0 0 0 ... 3.7 '2017' '04']\n",
            " [0 0 0 ... 3.7 '2017' '04']]\n"
          ],
          "name": "stdout"
        }
      ]
    },
    {
      "cell_type": "code",
      "metadata": {
        "id": "8y3nDJQGBN5l",
        "colab_type": "code",
        "outputId": "ce07470f-4e90-4737-ddae-8bf860e56305",
        "colab": {
          "base_uri": "https://localhost:8080/",
          "height": 34
        }
      },
      "source": [
        "y = df_final.iloc[:, -1].values\n",
        "print(y)"
      ],
      "execution_count": 0,
      "outputs": [
        {
          "output_type": "stream",
          "text": [
            "['Smoke' 'Smoke' 'Smoke' ... 'Haze' 'Haze' 'Haze']\n"
          ],
          "name": "stdout"
        }
      ]
    },
    {
      "cell_type": "code",
      "metadata": {
        "id": "Bad4_HlwClkt",
        "colab_type": "code",
        "outputId": "8c7231e6-2090-4c9b-be76-8165af4421db",
        "colab": {
          "base_uri": "https://localhost:8080/",
          "height": 34
        }
      },
      "source": [
        "y_new=df_final['_rain'].values\n",
        "print(y_new)"
      ],
      "execution_count": 0,
      "outputs": [
        {
          "output_type": "stream",
          "text": [
            "[0 0 0 ... 0 0 0]\n"
          ],
          "name": "stdout"
        }
      ]
    },
    {
      "cell_type": "code",
      "metadata": {
        "id": "GEh1nCchBN5r",
        "colab_type": "code",
        "colab": {}
      },
      "source": [
        "label_encoder = LabelEncoder()"
      ],
      "execution_count": 0,
      "outputs": []
    },
    {
      "cell_type": "code",
      "metadata": {
        "id": "igqHOs22BN5v",
        "colab_type": "code",
        "outputId": "40b963e7-7d18-48e4-97c0-d5c338a9a4c3",
        "colab": {
          "base_uri": "https://localhost:8080/",
          "height": 34
        }
      },
      "source": [
        "y = label_encoder.fit_transform(y)\n",
        "print(y)"
      ],
      "execution_count": 0,
      "outputs": [
        {
          "output_type": "stream",
          "text": [
            "[31 31 31 ...  5  5  5]\n"
          ],
          "name": "stdout"
        }
      ]
    },
    {
      "cell_type": "code",
      "metadata": {
        "id": "HlOJGdn3BN50",
        "colab_type": "code",
        "outputId": "ad76a0f5-bac8-4dd0-88ff-153e4c04bc45",
        "colab": {
          "base_uri": "https://localhost:8080/",
          "height": 34
        }
      },
      "source": [
        "y.shape"
      ],
      "execution_count": 0,
      "outputs": [
        {
          "output_type": "execute_result",
          "data": {
            "text/plain": [
              "(100990,)"
            ]
          },
          "metadata": {
            "tags": []
          },
          "execution_count": 80
        }
      ]
    },
    {
      "cell_type": "code",
      "metadata": {
        "id": "2szz6WjaDEz9",
        "colab_type": "code",
        "outputId": "3774c904-27ad-4b36-888b-3c9c4e2a4e68",
        "colab": {
          "base_uri": "https://localhost:8080/",
          "height": 34
        }
      },
      "source": [
        "y_new.shape"
      ],
      "execution_count": 0,
      "outputs": [
        {
          "output_type": "execute_result",
          "data": {
            "text/plain": [
              "(100990,)"
            ]
          },
          "metadata": {
            "tags": []
          },
          "execution_count": 106
        }
      ]
    },
    {
      "cell_type": "code",
      "metadata": {
        "id": "7tCf98FrBN54",
        "colab_type": "code",
        "colab": {}
      },
      "source": [
        "# SO now our Feature Matrix(X) and target matrix y is ready"
      ],
      "execution_count": 0,
      "outputs": []
    },
    {
      "cell_type": "markdown",
      "metadata": {
        "id": "lWtksGuqBN59",
        "colab_type": "text"
      },
      "source": [
        "# Train & Test Split"
      ]
    },
    {
      "cell_type": "code",
      "metadata": {
        "id": "UkXZ03aUBN5_",
        "colab_type": "code",
        "colab": {}
      },
      "source": [
        "from sklearn.model_selection import train_test_split"
      ],
      "execution_count": 0,
      "outputs": []
    },
    {
      "cell_type": "code",
      "metadata": {
        "id": "6eorzKhTBN6D",
        "colab_type": "code",
        "colab": {}
      },
      "source": [
        "X_train, X_test, y_train, y_test = train_test_split(X_new, y_new, test_size=.25, random_state=0) # test size =0.25 or 25%"
      ],
      "execution_count": 0,
      "outputs": []
    },
    {
      "cell_type": "code",
      "metadata": {
        "id": "E0uBm1TkBN6P",
        "colab_type": "code",
        "outputId": "330c2b23-4f93-4a72-a2ca-d93fed49ac2c",
        "colab": {
          "base_uri": "https://localhost:8080/",
          "height": 87
        }
      },
      "source": [
        "print(\"Shape of X_train\", X_train.shape)\n",
        "print(\"Shape of X_test\", X_test.shape)\n",
        "print(\"Shape of y_train\", y_train.shape)\n",
        "print(\"Shape of y_test\", y_test.shape)"
      ],
      "execution_count": 0,
      "outputs": [
        {
          "output_type": "stream",
          "text": [
            "Shape of X_train (75742, 32)\n",
            "Shape of X_test (25248, 32)\n",
            "Shape of y_train (75742,)\n",
            "Shape of y_test (25248,)\n"
          ],
          "name": "stdout"
        }
      ]
    },
    {
      "cell_type": "markdown",
      "metadata": {
        "id": "O6XLL-fABN6S",
        "colab_type": "text"
      },
      "source": [
        "# Create Model"
      ]
    },
    {
      "cell_type": "code",
      "metadata": {
        "id": "GHgFZNYcBN6U",
        "colab_type": "code",
        "colab": {}
      },
      "source": [
        "from sklearn.tree import DecisionTreeClassifier"
      ],
      "execution_count": 0,
      "outputs": []
    },
    {
      "cell_type": "code",
      "metadata": {
        "id": "yOafH6q6BN6X",
        "colab_type": "code",
        "colab": {}
      },
      "source": [
        "clf = DecisionTreeClassifier(criterion=\"entropy\", random_state=0)"
      ],
      "execution_count": 0,
      "outputs": []
    },
    {
      "cell_type": "code",
      "metadata": {
        "id": "dDhY0P5IrOUL",
        "colab_type": "code",
        "colab": {}
      },
      "source": [
        "from sklearn.linear_model import LinearRegression as lr"
      ],
      "execution_count": 0,
      "outputs": []
    },
    {
      "cell_type": "code",
      "metadata": {
        "id": "pPjFixSRrdLH",
        "colab_type": "code",
        "colab": {}
      },
      "source": [
        "clfLinear=lr(normalize=True)"
      ],
      "execution_count": 0,
      "outputs": []
    },
    {
      "cell_type": "code",
      "metadata": {
        "id": "qxwX6iQALqr9",
        "colab_type": "code",
        "colab": {}
      },
      "source": [
        "from sklearn.neighbors import KNeighborsClassifier"
      ],
      "execution_count": 0,
      "outputs": []
    },
    {
      "cell_type": "code",
      "metadata": {
        "id": "kO2XAdmVLyFr",
        "colab_type": "code",
        "colab": {}
      },
      "source": [
        "knn=KNeighborsClassifier(n_neighbors=4)"
      ],
      "execution_count": 0,
      "outputs": []
    },
    {
      "cell_type": "code",
      "metadata": {
        "id": "Arqd1_smNYWq",
        "colab_type": "code",
        "colab": {}
      },
      "source": [
        "from sklearn.naive_bayes import GaussianNB"
      ],
      "execution_count": 0,
      "outputs": []
    },
    {
      "cell_type": "code",
      "metadata": {
        "id": "T1RR0jFkNeJC",
        "colab_type": "code",
        "colab": {}
      },
      "source": [
        "gnb=GaussianNB()"
      ],
      "execution_count": 0,
      "outputs": []
    },
    {
      "cell_type": "markdown",
      "metadata": {
        "id": "7z-k43bkBN6b",
        "colab_type": "text"
      },
      "source": [
        "# Train Model"
      ]
    },
    {
      "cell_type": "code",
      "metadata": {
        "id": "Da0hQq2KBN6d",
        "colab_type": "code",
        "outputId": "b1f8cd30-2b85-4665-f4fe-4d8226bf61dc",
        "colab": {
          "base_uri": "https://localhost:8080/",
          "height": 122
        }
      },
      "source": [
        "clf.fit(X_train, y_train)"
      ],
      "execution_count": 0,
      "outputs": [
        {
          "output_type": "execute_result",
          "data": {
            "text/plain": [
              "DecisionTreeClassifier(ccp_alpha=0.0, class_weight=None, criterion='entropy',\n",
              "                       max_depth=None, max_features=None, max_leaf_nodes=None,\n",
              "                       min_impurity_decrease=0.0, min_impurity_split=None,\n",
              "                       min_samples_leaf=1, min_samples_split=2,\n",
              "                       min_weight_fraction_leaf=0.0, presort='deprecated',\n",
              "                       random_state=0, splitter='best')"
            ]
          },
          "metadata": {
            "tags": []
          },
          "execution_count": 127
        }
      ]
    },
    {
      "cell_type": "code",
      "metadata": {
        "id": "2xBFlPU3BN6g",
        "colab_type": "code",
        "colab": {}
      },
      "source": [
        "y_pred = clf.predict(X_test)"
      ],
      "execution_count": 0,
      "outputs": []
    },
    {
      "cell_type": "code",
      "metadata": {
        "id": "DLicBOsgBN6u",
        "colab_type": "code",
        "outputId": "92470253-2011-4743-deaa-56a6359a4792",
        "colab": {
          "base_uri": "https://localhost:8080/",
          "height": 34
        }
      },
      "source": [
        "y_pred"
      ],
      "execution_count": 0,
      "outputs": [
        {
          "output_type": "execute_result",
          "data": {
            "text/plain": [
              "array([0, 0, 0, ..., 1, 0, 0])"
            ]
          },
          "metadata": {
            "tags": []
          },
          "execution_count": 129
        }
      ]
    },
    {
      "cell_type": "code",
      "metadata": {
        "id": "Azzrqo_csHc6",
        "colab_type": "code",
        "outputId": "5669649c-65fa-452c-e977-f14fcba1d923",
        "colab": {
          "base_uri": "https://localhost:8080/",
          "height": 34
        }
      },
      "source": [
        "clfLinear.fit(X_train,y_train)"
      ],
      "execution_count": 0,
      "outputs": [
        {
          "output_type": "execute_result",
          "data": {
            "text/plain": [
              "LinearRegression(copy_X=True, fit_intercept=True, n_jobs=None, normalize=True)"
            ]
          },
          "metadata": {
            "tags": []
          },
          "execution_count": 143
        }
      ]
    },
    {
      "cell_type": "code",
      "metadata": {
        "id": "LmVfW-eusU0n",
        "colab_type": "code",
        "outputId": "d3d39cd4-f2d9-4921-cfcb-2fb4724bd394",
        "colab": {
          "base_uri": "https://localhost:8080/",
          "height": 52
        }
      },
      "source": [
        "y_predLinear=clfLinear.predict(X_test)\n",
        "print(y_predLinear)"
      ],
      "execution_count": 0,
      "outputs": [
        {
          "output_type": "stream",
          "text": [
            "[-0.03503799  0.04444885 -0.00599289 ...  0.07344055  0.05637741\n",
            "  0.04163742]\n"
          ],
          "name": "stdout"
        }
      ]
    },
    {
      "cell_type": "code",
      "metadata": {
        "id": "q3u1msQMMI8W",
        "colab_type": "code",
        "outputId": "4be672d2-ba0d-4b73-cafb-15db91fa8ecf",
        "colab": {
          "base_uri": "https://localhost:8080/",
          "height": 70
        }
      },
      "source": [
        "knn.fit(X_train,y_train)"
      ],
      "execution_count": 0,
      "outputs": [
        {
          "output_type": "execute_result",
          "data": {
            "text/plain": [
              "KNeighborsClassifier(algorithm='auto', leaf_size=30, metric='minkowski',\n",
              "                     metric_params=None, n_jobs=None, n_neighbors=4, p=2,\n",
              "                     weights='uniform')"
            ]
          },
          "metadata": {
            "tags": []
          },
          "execution_count": 156
        }
      ]
    },
    {
      "cell_type": "code",
      "metadata": {
        "id": "qhhLxWasL-Lt",
        "colab_type": "code",
        "colab": {}
      },
      "source": [
        "y_predKnn=knn.predict(X_test)"
      ],
      "execution_count": 0,
      "outputs": []
    },
    {
      "cell_type": "code",
      "metadata": {
        "id": "N4A_DhxqNmX8",
        "colab_type": "code",
        "outputId": "44451929-48c3-48af-d307-84f7a61b3737",
        "colab": {
          "base_uri": "https://localhost:8080/",
          "height": 34
        }
      },
      "source": [
        "gnb.fit(X_train,y_train)"
      ],
      "execution_count": 0,
      "outputs": [
        {
          "output_type": "execute_result",
          "data": {
            "text/plain": [
              "GaussianNB(priors=None, var_smoothing=1e-09)"
            ]
          },
          "metadata": {
            "tags": []
          },
          "execution_count": 163
        }
      ]
    },
    {
      "cell_type": "code",
      "metadata": {
        "id": "KuK5b2CfNrmX",
        "colab_type": "code",
        "colab": {}
      },
      "source": [
        "y_predGnb=gnb.predict(X_test)"
      ],
      "execution_count": 0,
      "outputs": []
    },
    {
      "cell_type": "markdown",
      "metadata": {
        "id": "ZQJUeIkFBN6y",
        "colab_type": "text"
      },
      "source": [
        "# Accuracy"
      ]
    },
    {
      "cell_type": "code",
      "metadata": {
        "id": "KhjAhZietKtB",
        "colab_type": "code",
        "colab": {}
      },
      "source": [
        "from sklearn.metrics import classification_report as cr,confusion_matrix as cm"
      ],
      "execution_count": 0,
      "outputs": []
    },
    {
      "cell_type": "code",
      "metadata": {
        "id": "dlKNlDmlBN62",
        "colab_type": "code",
        "outputId": "822e179c-2c7a-49f0-b05a-427da0e60ff6",
        "colab": {
          "base_uri": "https://localhost:8080/",
          "height": 34
        }
      },
      "source": [
        "from sklearn import metrics\n",
        "import matplotlib.pyplot as plt\n",
        "print(\"DecisionTrees's Accuracy: \", metrics.accuracy_score(y_test, y_pred))"
      ],
      "execution_count": 0,
      "outputs": [
        {
          "output_type": "stream",
          "text": [
            "DecisionTrees's Accuracy:  0.9998415716096325\n"
          ],
          "name": "stdout"
        }
      ]
    },
    {
      "cell_type": "code",
      "metadata": {
        "id": "1ODeyW-VBN66",
        "colab_type": "code",
        "outputId": "22bdd161-4f8d-435f-a1d9-645ed220e966",
        "colab": {
          "base_uri": "https://localhost:8080/",
          "height": 175
        }
      },
      "source": [
        "print(cr(y_test,y_pred))"
      ],
      "execution_count": 0,
      "outputs": [
        {
          "output_type": "stream",
          "text": [
            "              precision    recall  f1-score   support\n",
            "\n",
            "           0       1.00      1.00      1.00     24613\n",
            "           1       1.00      1.00      1.00       635\n",
            "\n",
            "    accuracy                           1.00     25248\n",
            "   macro avg       1.00      1.00      1.00     25248\n",
            "weighted avg       1.00      1.00      1.00     25248\n",
            "\n"
          ],
          "name": "stdout"
        }
      ]
    },
    {
      "cell_type": "code",
      "metadata": {
        "id": "zTeJ4H9StbrG",
        "colab_type": "code",
        "outputId": "cb6a85c6-3025-4559-e18a-198a1d18037f",
        "colab": {
          "base_uri": "https://localhost:8080/",
          "height": 336
        }
      },
      "source": [
        "print(cr(y_test,y_predLinear))"
      ],
      "execution_count": 0,
      "outputs": [
        {
          "output_type": "error",
          "ename": "ValueError",
          "evalue": "ignored",
          "traceback": [
            "\u001b[0;31m---------------------------------------------------------------------------\u001b[0m",
            "\u001b[0;31mValueError\u001b[0m                                Traceback (most recent call last)",
            "\u001b[0;32m<ipython-input-136-75def920bec8>\u001b[0m in \u001b[0;36m<module>\u001b[0;34m()\u001b[0m\n\u001b[0;32m----> 1\u001b[0;31m \u001b[0mprint\u001b[0m\u001b[0;34m(\u001b[0m\u001b[0mcr\u001b[0m\u001b[0;34m(\u001b[0m\u001b[0my_test\u001b[0m\u001b[0;34m,\u001b[0m\u001b[0my_predLinear\u001b[0m\u001b[0;34m)\u001b[0m\u001b[0;34m)\u001b[0m\u001b[0;34m\u001b[0m\u001b[0;34m\u001b[0m\u001b[0m\n\u001b[0m",
            "\u001b[0;32m/usr/local/lib/python3.6/dist-packages/sklearn/metrics/_classification.py\u001b[0m in \u001b[0;36mclassification_report\u001b[0;34m(y_true, y_pred, labels, target_names, sample_weight, digits, output_dict, zero_division)\u001b[0m\n\u001b[1;32m   1969\u001b[0m     \"\"\"\n\u001b[1;32m   1970\u001b[0m \u001b[0;34m\u001b[0m\u001b[0m\n\u001b[0;32m-> 1971\u001b[0;31m     \u001b[0my_type\u001b[0m\u001b[0;34m,\u001b[0m \u001b[0my_true\u001b[0m\u001b[0;34m,\u001b[0m \u001b[0my_pred\u001b[0m \u001b[0;34m=\u001b[0m \u001b[0m_check_targets\u001b[0m\u001b[0;34m(\u001b[0m\u001b[0my_true\u001b[0m\u001b[0;34m,\u001b[0m \u001b[0my_pred\u001b[0m\u001b[0;34m)\u001b[0m\u001b[0;34m\u001b[0m\u001b[0;34m\u001b[0m\u001b[0m\n\u001b[0m\u001b[1;32m   1972\u001b[0m \u001b[0;34m\u001b[0m\u001b[0m\n\u001b[1;32m   1973\u001b[0m     \u001b[0mlabels_given\u001b[0m \u001b[0;34m=\u001b[0m \u001b[0;32mTrue\u001b[0m\u001b[0;34m\u001b[0m\u001b[0;34m\u001b[0m\u001b[0m\n",
            "\u001b[0;32m/usr/local/lib/python3.6/dist-packages/sklearn/metrics/_classification.py\u001b[0m in \u001b[0;36m_check_targets\u001b[0;34m(y_true, y_pred)\u001b[0m\n\u001b[1;32m     88\u001b[0m     \u001b[0;32mif\u001b[0m \u001b[0mlen\u001b[0m\u001b[0;34m(\u001b[0m\u001b[0my_type\u001b[0m\u001b[0;34m)\u001b[0m \u001b[0;34m>\u001b[0m \u001b[0;36m1\u001b[0m\u001b[0;34m:\u001b[0m\u001b[0;34m\u001b[0m\u001b[0;34m\u001b[0m\u001b[0m\n\u001b[1;32m     89\u001b[0m         raise ValueError(\"Classification metrics can't handle a mix of {0} \"\n\u001b[0;32m---> 90\u001b[0;31m                          \"and {1} targets\".format(type_true, type_pred))\n\u001b[0m\u001b[1;32m     91\u001b[0m \u001b[0;34m\u001b[0m\u001b[0m\n\u001b[1;32m     92\u001b[0m     \u001b[0;31m# We can't have more than one value on y_type => The set is no more needed\u001b[0m\u001b[0;34m\u001b[0m\u001b[0;34m\u001b[0m\u001b[0;34m\u001b[0m\u001b[0m\n",
            "\u001b[0;31mValueError\u001b[0m: Classification metrics can't handle a mix of binary and continuous targets"
          ]
        }
      ]
    },
    {
      "cell_type": "code",
      "metadata": {
        "id": "tzpJSfpvIO_Z",
        "colab_type": "code",
        "outputId": "d47414c1-4176-4bb7-bb74-2d4c7f4ac883",
        "colab": {
          "base_uri": "https://localhost:8080/",
          "height": 52
        }
      },
      "source": [
        "cm(y_test,y_pred)"
      ],
      "execution_count": 0,
      "outputs": [
        {
          "output_type": "execute_result",
          "data": {
            "text/plain": [
              "array([[24611,     2],\n",
              "       [    2,   633]])"
            ]
          },
          "metadata": {
            "tags": []
          },
          "execution_count": 141
        }
      ]
    },
    {
      "cell_type": "code",
      "metadata": {
        "id": "UMSO3QW8Mcrp",
        "colab_type": "code",
        "outputId": "f97e3f7f-b36f-47c2-d90d-8e18f1361498",
        "colab": {
          "base_uri": "https://localhost:8080/",
          "height": 70
        }
      },
      "source": [
        "print(cm(y_test,y_predKnn))\n",
        "print('Knn\\'s accuracy = ',metrics.accuracy_score(y_test,y_predKnn))"
      ],
      "execution_count": 0,
      "outputs": [
        {
          "output_type": "stream",
          "text": [
            "[[24583    30]\n",
            " [  409   226]]\n",
            "Knn's accuracy =  0.982612484157161\n"
          ],
          "name": "stdout"
        }
      ]
    },
    {
      "cell_type": "code",
      "metadata": {
        "id": "QMZsZxeHN1sc",
        "colab_type": "code",
        "outputId": "50005c1f-3e1d-482f-a657-cbf90f6763fd",
        "colab": {
          "base_uri": "https://localhost:8080/",
          "height": 70
        }
      },
      "source": [
        "print(cm(y_test,y_predGnb))\n",
        "print('Gnb\\'s accuracy = ',metrics.accuracy_score(y_test,y_predGnb))"
      ],
      "execution_count": 0,
      "outputs": [
        {
          "output_type": "stream",
          "text": [
            "[[  402 24211]\n",
            " [    5   630]]\n",
            "Gnb's accuracy =  0.0408745247148289\n"
          ],
          "name": "stdout"
        }
      ]
    },
    {
      "cell_type": "code",
      "metadata": {
        "id": "2CRjIozAKhwe",
        "colab_type": "code",
        "outputId": "81058dc2-bb3d-4b6d-fde1-40e55d705600",
        "colab": {
          "base_uri": "https://localhost:8080/",
          "height": 34
        }
      },
      "source": [
        "metrics.mean_absolute_error(y_test,y_pred)"
      ],
      "execution_count": 0,
      "outputs": [
        {
          "output_type": "execute_result",
          "data": {
            "text/plain": [
              "0.00015842839036755386"
            ]
          },
          "metadata": {
            "tags": []
          },
          "execution_count": 150
        }
      ]
    },
    {
      "cell_type": "code",
      "metadata": {
        "id": "8fI6aqQfK4tw",
        "colab_type": "code",
        "outputId": "284bcc37-ca21-469b-c97e-22afbc2876d3",
        "colab": {
          "base_uri": "https://localhost:8080/",
          "height": 34
        }
      },
      "source": [
        "metrics.mean_absolute_error(y_test,y_predLinear)"
      ],
      "execution_count": 0,
      "outputs": [
        {
          "output_type": "execute_result",
          "data": {
            "text/plain": [
              "263770692.57963657"
            ]
          },
          "metadata": {
            "tags": []
          },
          "execution_count": 151
        }
      ]
    },
    {
      "cell_type": "code",
      "metadata": {
        "id": "WOuYdxPUK87_",
        "colab_type": "code",
        "colab": {}
      },
      "source": [
        ""
      ],
      "execution_count": 0,
      "outputs": []
    }
  ]
}